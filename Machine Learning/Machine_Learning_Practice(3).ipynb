{
 "cells": [
  {
   "cell_type": "code",
   "execution_count": 1,
   "id": "0c57a22b",
   "metadata": {},
   "outputs": [],
   "source": [
    "import pandas as pd\n",
    "import numpy as np"
   ]
  },
  {
   "cell_type": "code",
   "execution_count": 2,
   "id": "ad790384",
   "metadata": {},
   "outputs": [
    {
     "data": {
      "text/plain": [
       "Index(['unit', 'Ps30', 'Nc', 'T50', 'phi', 'NRc', 'W32', 'P30', 'BPR', 'T30',\n",
       "       'T24', 'W31', 'htBleed', 'NRf', 'Nf', 'RUL'],\n",
       "      dtype='object')"
      ]
     },
     "execution_count": 2,
     "metadata": {},
     "output_type": "execute_result"
    }
   ],
   "source": [
    "df = pd.read_csv('test2.modify2.csv')\n",
    "df.columns"
   ]
  },
  {
   "cell_type": "code",
   "execution_count": 3,
   "id": "d68ee11d",
   "metadata": {},
   "outputs": [],
   "source": [
    "features = ['Ps30', 'Nc', 'T50', 'phi', 'NRc', 'W32', 'P30', 'BPR', 'T30',\n",
    "       'T24', 'W31', 'htBleed', 'NRf', 'Nf']\n",
    "label = 'RUL'"
   ]
  },
  {
   "cell_type": "code",
   "execution_count": 4,
   "id": "d07f1f28",
   "metadata": {},
   "outputs": [],
   "source": [
    "train, test = df[0::2], df[1::2]\n",
    "train, test = train.reset_index(), test.reset_index()\n",
    "X_train, y_train = train[features], train[label]\n",
    "X_test, y_test = test[features], test[label]"
   ]
  },
  {
   "cell_type": "markdown",
   "id": "5624daae",
   "metadata": {},
   "source": [
    "#### 모델 기획 및 수립\n",
    "- XGBoost(속도를 개선함), CatBoost, LightGBM -> 트리 기반의 알고리즘 \n",
    "- XGBoost : 내부적을 병렬 계산을 극대화함 -> 속도가 개선함 regularizer가 내부적으로 작동함 이후의 cat, light에 대비해 reference가 많다. "
   ]
  },
  {
   "cell_type": "code",
   "execution_count": 5,
   "id": "87e49844",
   "metadata": {},
   "outputs": [],
   "source": [
    "from sklearn.ensemble import RandomForestRegressor as rf\n",
    "from xgboost import XGBRegressor as xg\n",
    "from lightgbm import LGBMRegressor as lg\n",
    "from catboost import CatBoostRegressor as cb"
   ]
  },
  {
   "cell_type": "code",
   "execution_count": 6,
   "id": "2f4e2070",
   "metadata": {},
   "outputs": [],
   "source": [
    "m1, m2, m3, m4 = rf(), xg(), lg(), cb(silent= True)"
   ]
  },
  {
   "cell_type": "code",
   "execution_count": 7,
   "id": "3d17baac",
   "metadata": {},
   "outputs": [
    {
     "data": {
      "text/html": [
       "<style>#sk-container-id-1 {color: black;}#sk-container-id-1 pre{padding: 0;}#sk-container-id-1 div.sk-toggleable {background-color: white;}#sk-container-id-1 label.sk-toggleable__label {cursor: pointer;display: block;width: 100%;margin-bottom: 0;padding: 0.3em;box-sizing: border-box;text-align: center;}#sk-container-id-1 label.sk-toggleable__label-arrow:before {content: \"▸\";float: left;margin-right: 0.25em;color: #696969;}#sk-container-id-1 label.sk-toggleable__label-arrow:hover:before {color: black;}#sk-container-id-1 div.sk-estimator:hover label.sk-toggleable__label-arrow:before {color: black;}#sk-container-id-1 div.sk-toggleable__content {max-height: 0;max-width: 0;overflow: hidden;text-align: left;background-color: #f0f8ff;}#sk-container-id-1 div.sk-toggleable__content pre {margin: 0.2em;color: black;border-radius: 0.25em;background-color: #f0f8ff;}#sk-container-id-1 input.sk-toggleable__control:checked~div.sk-toggleable__content {max-height: 200px;max-width: 100%;overflow: auto;}#sk-container-id-1 input.sk-toggleable__control:checked~label.sk-toggleable__label-arrow:before {content: \"▾\";}#sk-container-id-1 div.sk-estimator input.sk-toggleable__control:checked~label.sk-toggleable__label {background-color: #d4ebff;}#sk-container-id-1 div.sk-label input.sk-toggleable__control:checked~label.sk-toggleable__label {background-color: #d4ebff;}#sk-container-id-1 input.sk-hidden--visually {border: 0;clip: rect(1px 1px 1px 1px);clip: rect(1px, 1px, 1px, 1px);height: 1px;margin: -1px;overflow: hidden;padding: 0;position: absolute;width: 1px;}#sk-container-id-1 div.sk-estimator {font-family: monospace;background-color: #f0f8ff;border: 1px dotted black;border-radius: 0.25em;box-sizing: border-box;margin-bottom: 0.5em;}#sk-container-id-1 div.sk-estimator:hover {background-color: #d4ebff;}#sk-container-id-1 div.sk-parallel-item::after {content: \"\";width: 100%;border-bottom: 1px solid gray;flex-grow: 1;}#sk-container-id-1 div.sk-label:hover label.sk-toggleable__label {background-color: #d4ebff;}#sk-container-id-1 div.sk-serial::before {content: \"\";position: absolute;border-left: 1px solid gray;box-sizing: border-box;top: 0;bottom: 0;left: 50%;z-index: 0;}#sk-container-id-1 div.sk-serial {display: flex;flex-direction: column;align-items: center;background-color: white;padding-right: 0.2em;padding-left: 0.2em;position: relative;}#sk-container-id-1 div.sk-item {position: relative;z-index: 1;}#sk-container-id-1 div.sk-parallel {display: flex;align-items: stretch;justify-content: center;background-color: white;position: relative;}#sk-container-id-1 div.sk-item::before, #sk-container-id-1 div.sk-parallel-item::before {content: \"\";position: absolute;border-left: 1px solid gray;box-sizing: border-box;top: 0;bottom: 0;left: 50%;z-index: -1;}#sk-container-id-1 div.sk-parallel-item {display: flex;flex-direction: column;z-index: 1;position: relative;background-color: white;}#sk-container-id-1 div.sk-parallel-item:first-child::after {align-self: flex-end;width: 50%;}#sk-container-id-1 div.sk-parallel-item:last-child::after {align-self: flex-start;width: 50%;}#sk-container-id-1 div.sk-parallel-item:only-child::after {width: 0;}#sk-container-id-1 div.sk-dashed-wrapped {border: 1px dashed gray;margin: 0 0.4em 0.5em 0.4em;box-sizing: border-box;padding-bottom: 0.4em;background-color: white;}#sk-container-id-1 div.sk-label label {font-family: monospace;font-weight: bold;display: inline-block;line-height: 1.2em;}#sk-container-id-1 div.sk-label-container {text-align: center;}#sk-container-id-1 div.sk-container {/* jupyter's `normalize.less` sets `[hidden] { display: none; }` but bootstrap.min.css set `[hidden] { display: none !important; }` so we also need the `!important` here to be able to override the default hidden behavior on the sphinx rendered scikit-learn.org. See: https://github.com/scikit-learn/scikit-learn/issues/21755 */display: inline-block !important;position: relative;}#sk-container-id-1 div.sk-text-repr-fallback {display: none;}</style><div id=\"sk-container-id-1\" class=\"sk-top-container\"><div class=\"sk-text-repr-fallback\"><pre>RandomForestRegressor()</pre><b>In a Jupyter environment, please rerun this cell to show the HTML representation or trust the notebook. <br />On GitHub, the HTML representation is unable to render, please try loading this page with nbviewer.org.</b></div><div class=\"sk-container\" hidden><div class=\"sk-item\"><div class=\"sk-estimator sk-toggleable\"><input class=\"sk-toggleable__control sk-hidden--visually\" id=\"sk-estimator-id-1\" type=\"checkbox\" checked><label for=\"sk-estimator-id-1\" class=\"sk-toggleable__label sk-toggleable__label-arrow\">RandomForestRegressor</label><div class=\"sk-toggleable__content\"><pre>RandomForestRegressor()</pre></div></div></div></div></div>"
      ],
      "text/plain": [
       "RandomForestRegressor()"
      ]
     },
     "execution_count": 7,
     "metadata": {},
     "output_type": "execute_result"
    }
   ],
   "source": [
    "m1.fit(X_train, y_train)"
   ]
  },
  {
   "cell_type": "code",
   "execution_count": 8,
   "id": "2fa79fb0",
   "metadata": {},
   "outputs": [
    {
     "data": {
      "text/html": [
       "<style>#sk-container-id-2 {color: black;}#sk-container-id-2 pre{padding: 0;}#sk-container-id-2 div.sk-toggleable {background-color: white;}#sk-container-id-2 label.sk-toggleable__label {cursor: pointer;display: block;width: 100%;margin-bottom: 0;padding: 0.3em;box-sizing: border-box;text-align: center;}#sk-container-id-2 label.sk-toggleable__label-arrow:before {content: \"▸\";float: left;margin-right: 0.25em;color: #696969;}#sk-container-id-2 label.sk-toggleable__label-arrow:hover:before {color: black;}#sk-container-id-2 div.sk-estimator:hover label.sk-toggleable__label-arrow:before {color: black;}#sk-container-id-2 div.sk-toggleable__content {max-height: 0;max-width: 0;overflow: hidden;text-align: left;background-color: #f0f8ff;}#sk-container-id-2 div.sk-toggleable__content pre {margin: 0.2em;color: black;border-radius: 0.25em;background-color: #f0f8ff;}#sk-container-id-2 input.sk-toggleable__control:checked~div.sk-toggleable__content {max-height: 200px;max-width: 100%;overflow: auto;}#sk-container-id-2 input.sk-toggleable__control:checked~label.sk-toggleable__label-arrow:before {content: \"▾\";}#sk-container-id-2 div.sk-estimator input.sk-toggleable__control:checked~label.sk-toggleable__label {background-color: #d4ebff;}#sk-container-id-2 div.sk-label input.sk-toggleable__control:checked~label.sk-toggleable__label {background-color: #d4ebff;}#sk-container-id-2 input.sk-hidden--visually {border: 0;clip: rect(1px 1px 1px 1px);clip: rect(1px, 1px, 1px, 1px);height: 1px;margin: -1px;overflow: hidden;padding: 0;position: absolute;width: 1px;}#sk-container-id-2 div.sk-estimator {font-family: monospace;background-color: #f0f8ff;border: 1px dotted black;border-radius: 0.25em;box-sizing: border-box;margin-bottom: 0.5em;}#sk-container-id-2 div.sk-estimator:hover {background-color: #d4ebff;}#sk-container-id-2 div.sk-parallel-item::after {content: \"\";width: 100%;border-bottom: 1px solid gray;flex-grow: 1;}#sk-container-id-2 div.sk-label:hover label.sk-toggleable__label {background-color: #d4ebff;}#sk-container-id-2 div.sk-serial::before {content: \"\";position: absolute;border-left: 1px solid gray;box-sizing: border-box;top: 0;bottom: 0;left: 50%;z-index: 0;}#sk-container-id-2 div.sk-serial {display: flex;flex-direction: column;align-items: center;background-color: white;padding-right: 0.2em;padding-left: 0.2em;position: relative;}#sk-container-id-2 div.sk-item {position: relative;z-index: 1;}#sk-container-id-2 div.sk-parallel {display: flex;align-items: stretch;justify-content: center;background-color: white;position: relative;}#sk-container-id-2 div.sk-item::before, #sk-container-id-2 div.sk-parallel-item::before {content: \"\";position: absolute;border-left: 1px solid gray;box-sizing: border-box;top: 0;bottom: 0;left: 50%;z-index: -1;}#sk-container-id-2 div.sk-parallel-item {display: flex;flex-direction: column;z-index: 1;position: relative;background-color: white;}#sk-container-id-2 div.sk-parallel-item:first-child::after {align-self: flex-end;width: 50%;}#sk-container-id-2 div.sk-parallel-item:last-child::after {align-self: flex-start;width: 50%;}#sk-container-id-2 div.sk-parallel-item:only-child::after {width: 0;}#sk-container-id-2 div.sk-dashed-wrapped {border: 1px dashed gray;margin: 0 0.4em 0.5em 0.4em;box-sizing: border-box;padding-bottom: 0.4em;background-color: white;}#sk-container-id-2 div.sk-label label {font-family: monospace;font-weight: bold;display: inline-block;line-height: 1.2em;}#sk-container-id-2 div.sk-label-container {text-align: center;}#sk-container-id-2 div.sk-container {/* jupyter's `normalize.less` sets `[hidden] { display: none; }` but bootstrap.min.css set `[hidden] { display: none !important; }` so we also need the `!important` here to be able to override the default hidden behavior on the sphinx rendered scikit-learn.org. See: https://github.com/scikit-learn/scikit-learn/issues/21755 */display: inline-block !important;position: relative;}#sk-container-id-2 div.sk-text-repr-fallback {display: none;}</style><div id=\"sk-container-id-2\" class=\"sk-top-container\"><div class=\"sk-text-repr-fallback\"><pre>XGBRegressor(base_score=None, booster=None, callbacks=None,\n",
       "             colsample_bylevel=None, colsample_bynode=None,\n",
       "             colsample_bytree=None, early_stopping_rounds=None,\n",
       "             enable_categorical=False, eval_metric=None, feature_types=None,\n",
       "             gamma=None, gpu_id=None, grow_policy=None, importance_type=None,\n",
       "             interaction_constraints=None, learning_rate=None, max_bin=None,\n",
       "             max_cat_threshold=None, max_cat_to_onehot=None,\n",
       "             max_delta_step=None, max_depth=None, max_leaves=None,\n",
       "             min_child_weight=None, missing=nan, monotone_constraints=None,\n",
       "             n_estimators=100, n_jobs=None, num_parallel_tree=None,\n",
       "             predictor=None, random_state=None, ...)</pre><b>In a Jupyter environment, please rerun this cell to show the HTML representation or trust the notebook. <br />On GitHub, the HTML representation is unable to render, please try loading this page with nbviewer.org.</b></div><div class=\"sk-container\" hidden><div class=\"sk-item\"><div class=\"sk-estimator sk-toggleable\"><input class=\"sk-toggleable__control sk-hidden--visually\" id=\"sk-estimator-id-2\" type=\"checkbox\" checked><label for=\"sk-estimator-id-2\" class=\"sk-toggleable__label sk-toggleable__label-arrow\">XGBRegressor</label><div class=\"sk-toggleable__content\"><pre>XGBRegressor(base_score=None, booster=None, callbacks=None,\n",
       "             colsample_bylevel=None, colsample_bynode=None,\n",
       "             colsample_bytree=None, early_stopping_rounds=None,\n",
       "             enable_categorical=False, eval_metric=None, feature_types=None,\n",
       "             gamma=None, gpu_id=None, grow_policy=None, importance_type=None,\n",
       "             interaction_constraints=None, learning_rate=None, max_bin=None,\n",
       "             max_cat_threshold=None, max_cat_to_onehot=None,\n",
       "             max_delta_step=None, max_depth=None, max_leaves=None,\n",
       "             min_child_weight=None, missing=nan, monotone_constraints=None,\n",
       "             n_estimators=100, n_jobs=None, num_parallel_tree=None,\n",
       "             predictor=None, random_state=None, ...)</pre></div></div></div></div></div>"
      ],
      "text/plain": [
       "XGBRegressor(base_score=None, booster=None, callbacks=None,\n",
       "             colsample_bylevel=None, colsample_bynode=None,\n",
       "             colsample_bytree=None, early_stopping_rounds=None,\n",
       "             enable_categorical=False, eval_metric=None, feature_types=None,\n",
       "             gamma=None, gpu_id=None, grow_policy=None, importance_type=None,\n",
       "             interaction_constraints=None, learning_rate=None, max_bin=None,\n",
       "             max_cat_threshold=None, max_cat_to_onehot=None,\n",
       "             max_delta_step=None, max_depth=None, max_leaves=None,\n",
       "             min_child_weight=None, missing=nan, monotone_constraints=None,\n",
       "             n_estimators=100, n_jobs=None, num_parallel_tree=None,\n",
       "             predictor=None, random_state=None, ...)"
      ]
     },
     "execution_count": 8,
     "metadata": {},
     "output_type": "execute_result"
    }
   ],
   "source": [
    "m2.fit(X_train, y_train)"
   ]
  },
  {
   "cell_type": "code",
   "execution_count": 9,
   "id": "98b798ce",
   "metadata": {},
   "outputs": [
    {
     "data": {
      "text/html": [
       "<style>#sk-container-id-3 {color: black;}#sk-container-id-3 pre{padding: 0;}#sk-container-id-3 div.sk-toggleable {background-color: white;}#sk-container-id-3 label.sk-toggleable__label {cursor: pointer;display: block;width: 100%;margin-bottom: 0;padding: 0.3em;box-sizing: border-box;text-align: center;}#sk-container-id-3 label.sk-toggleable__label-arrow:before {content: \"▸\";float: left;margin-right: 0.25em;color: #696969;}#sk-container-id-3 label.sk-toggleable__label-arrow:hover:before {color: black;}#sk-container-id-3 div.sk-estimator:hover label.sk-toggleable__label-arrow:before {color: black;}#sk-container-id-3 div.sk-toggleable__content {max-height: 0;max-width: 0;overflow: hidden;text-align: left;background-color: #f0f8ff;}#sk-container-id-3 div.sk-toggleable__content pre {margin: 0.2em;color: black;border-radius: 0.25em;background-color: #f0f8ff;}#sk-container-id-3 input.sk-toggleable__control:checked~div.sk-toggleable__content {max-height: 200px;max-width: 100%;overflow: auto;}#sk-container-id-3 input.sk-toggleable__control:checked~label.sk-toggleable__label-arrow:before {content: \"▾\";}#sk-container-id-3 div.sk-estimator input.sk-toggleable__control:checked~label.sk-toggleable__label {background-color: #d4ebff;}#sk-container-id-3 div.sk-label input.sk-toggleable__control:checked~label.sk-toggleable__label {background-color: #d4ebff;}#sk-container-id-3 input.sk-hidden--visually {border: 0;clip: rect(1px 1px 1px 1px);clip: rect(1px, 1px, 1px, 1px);height: 1px;margin: -1px;overflow: hidden;padding: 0;position: absolute;width: 1px;}#sk-container-id-3 div.sk-estimator {font-family: monospace;background-color: #f0f8ff;border: 1px dotted black;border-radius: 0.25em;box-sizing: border-box;margin-bottom: 0.5em;}#sk-container-id-3 div.sk-estimator:hover {background-color: #d4ebff;}#sk-container-id-3 div.sk-parallel-item::after {content: \"\";width: 100%;border-bottom: 1px solid gray;flex-grow: 1;}#sk-container-id-3 div.sk-label:hover label.sk-toggleable__label {background-color: #d4ebff;}#sk-container-id-3 div.sk-serial::before {content: \"\";position: absolute;border-left: 1px solid gray;box-sizing: border-box;top: 0;bottom: 0;left: 50%;z-index: 0;}#sk-container-id-3 div.sk-serial {display: flex;flex-direction: column;align-items: center;background-color: white;padding-right: 0.2em;padding-left: 0.2em;position: relative;}#sk-container-id-3 div.sk-item {position: relative;z-index: 1;}#sk-container-id-3 div.sk-parallel {display: flex;align-items: stretch;justify-content: center;background-color: white;position: relative;}#sk-container-id-3 div.sk-item::before, #sk-container-id-3 div.sk-parallel-item::before {content: \"\";position: absolute;border-left: 1px solid gray;box-sizing: border-box;top: 0;bottom: 0;left: 50%;z-index: -1;}#sk-container-id-3 div.sk-parallel-item {display: flex;flex-direction: column;z-index: 1;position: relative;background-color: white;}#sk-container-id-3 div.sk-parallel-item:first-child::after {align-self: flex-end;width: 50%;}#sk-container-id-3 div.sk-parallel-item:last-child::after {align-self: flex-start;width: 50%;}#sk-container-id-3 div.sk-parallel-item:only-child::after {width: 0;}#sk-container-id-3 div.sk-dashed-wrapped {border: 1px dashed gray;margin: 0 0.4em 0.5em 0.4em;box-sizing: border-box;padding-bottom: 0.4em;background-color: white;}#sk-container-id-3 div.sk-label label {font-family: monospace;font-weight: bold;display: inline-block;line-height: 1.2em;}#sk-container-id-3 div.sk-label-container {text-align: center;}#sk-container-id-3 div.sk-container {/* jupyter's `normalize.less` sets `[hidden] { display: none; }` but bootstrap.min.css set `[hidden] { display: none !important; }` so we also need the `!important` here to be able to override the default hidden behavior on the sphinx rendered scikit-learn.org. See: https://github.com/scikit-learn/scikit-learn/issues/21755 */display: inline-block !important;position: relative;}#sk-container-id-3 div.sk-text-repr-fallback {display: none;}</style><div id=\"sk-container-id-3\" class=\"sk-top-container\"><div class=\"sk-text-repr-fallback\"><pre>LGBMRegressor()</pre><b>In a Jupyter environment, please rerun this cell to show the HTML representation or trust the notebook. <br />On GitHub, the HTML representation is unable to render, please try loading this page with nbviewer.org.</b></div><div class=\"sk-container\" hidden><div class=\"sk-item\"><div class=\"sk-estimator sk-toggleable\"><input class=\"sk-toggleable__control sk-hidden--visually\" id=\"sk-estimator-id-3\" type=\"checkbox\" checked><label for=\"sk-estimator-id-3\" class=\"sk-toggleable__label sk-toggleable__label-arrow\">LGBMRegressor</label><div class=\"sk-toggleable__content\"><pre>LGBMRegressor()</pre></div></div></div></div></div>"
      ],
      "text/plain": [
       "LGBMRegressor()"
      ]
     },
     "execution_count": 9,
     "metadata": {},
     "output_type": "execute_result"
    }
   ],
   "source": [
    "m3.fit(X_train, y_train)"
   ]
  },
  {
   "cell_type": "code",
   "execution_count": 10,
   "id": "c29eda9b",
   "metadata": {},
   "outputs": [
    {
     "data": {
      "text/plain": [
       "<catboost.core.CatBoostRegressor at 0x23c4ea638e0>"
      ]
     },
     "execution_count": 10,
     "metadata": {},
     "output_type": "execute_result"
    }
   ],
   "source": [
    "m4.fit(X_train, y_train)"
   ]
  },
  {
   "cell_type": "code",
   "execution_count": 11,
   "id": "4348558d",
   "metadata": {},
   "outputs": [
    {
     "name": "stdout",
     "output_type": "stream",
     "text": [
      "0.9487398253143053 0.8906117568834724 0.7678763179899359 0.806670475771444\n",
      "0.6283134728294472 0.589376213162057 0.6274747881162159 0.6287516693582487\n"
     ]
    }
   ],
   "source": [
    "print(m1.score(X_train, y_train), m2.score(X_train, y_train), m3.score(X_train, y_train), m4.score(X_train, y_train))\n",
    "print(m1.score(X_test, y_test), m2.score(X_test, y_test), m3.score(X_test, y_test), m4.score(X_test, y_test))\n",
    "\n",
    "# 학습한것에 비해 성능이 너무 좋지않다.\n",
    "# rul이 0에 가까울수록 기울기의 변동폭이 엄청 커진다. \n",
    "# 수명이 죽을 때가 오면 기울기가 훅훅 떨어진다. \n",
    "# 7일차의 그래프를 참고하자. \n",
    "# 로그함수나 루트를 사용하자..."
   ]
  },
  {
   "cell_type": "code",
   "execution_count": 12,
   "id": "ecf23d31",
   "metadata": {},
   "outputs": [],
   "source": [
    "# 로그 오차...."
   ]
  },
  {
   "cell_type": "code",
   "execution_count": 13,
   "id": "d4fcc136",
   "metadata": {},
   "outputs": [
    {
     "data": {
      "text/html": [
       "<div>\n",
       "<style scoped>\n",
       "    .dataframe tbody tr th:only-of-type {\n",
       "        vertical-align: middle;\n",
       "    }\n",
       "\n",
       "    .dataframe tbody tr th {\n",
       "        vertical-align: top;\n",
       "    }\n",
       "\n",
       "    .dataframe thead th {\n",
       "        text-align: right;\n",
       "    }\n",
       "</style>\n",
       "<table border=\"1\" class=\"dataframe\">\n",
       "  <thead>\n",
       "    <tr style=\"text-align: right;\">\n",
       "      <th></th>\n",
       "      <th>unit</th>\n",
       "      <th>Ps30</th>\n",
       "      <th>Nc</th>\n",
       "      <th>T50</th>\n",
       "      <th>phi</th>\n",
       "      <th>NRc</th>\n",
       "      <th>W32</th>\n",
       "      <th>P30</th>\n",
       "      <th>BPR</th>\n",
       "      <th>T30</th>\n",
       "      <th>T24</th>\n",
       "      <th>W31</th>\n",
       "      <th>htBleed</th>\n",
       "      <th>NRf</th>\n",
       "      <th>Nf</th>\n",
       "      <th>RUL</th>\n",
       "      <th>RUL_Log</th>\n",
       "    </tr>\n",
       "  </thead>\n",
       "  <tbody>\n",
       "    <tr>\n",
       "      <th>0</th>\n",
       "      <td>1</td>\n",
       "      <td>47.47</td>\n",
       "      <td>9046.19</td>\n",
       "      <td>1400.60</td>\n",
       "      <td>521.66</td>\n",
       "      <td>8138.62</td>\n",
       "      <td>23.4190</td>\n",
       "      <td>554.36</td>\n",
       "      <td>8.4195</td>\n",
       "      <td>1589.70</td>\n",
       "      <td>641.82</td>\n",
       "      <td>39.06</td>\n",
       "      <td>392</td>\n",
       "      <td>2388.02</td>\n",
       "      <td>2388.06</td>\n",
       "      <td>192</td>\n",
       "      <td>5.257495</td>\n",
       "    </tr>\n",
       "    <tr>\n",
       "      <th>1</th>\n",
       "      <td>1</td>\n",
       "      <td>47.49</td>\n",
       "      <td>9044.07</td>\n",
       "      <td>1403.14</td>\n",
       "      <td>522.28</td>\n",
       "      <td>8131.49</td>\n",
       "      <td>23.4236</td>\n",
       "      <td>553.75</td>\n",
       "      <td>8.4318</td>\n",
       "      <td>1591.82</td>\n",
       "      <td>642.15</td>\n",
       "      <td>39.00</td>\n",
       "      <td>392</td>\n",
       "      <td>2388.07</td>\n",
       "      <td>2388.04</td>\n",
       "      <td>191</td>\n",
       "      <td>5.252273</td>\n",
       "    </tr>\n",
       "    <tr>\n",
       "      <th>2</th>\n",
       "      <td>1</td>\n",
       "      <td>47.27</td>\n",
       "      <td>9052.94</td>\n",
       "      <td>1404.20</td>\n",
       "      <td>522.42</td>\n",
       "      <td>8133.23</td>\n",
       "      <td>23.3442</td>\n",
       "      <td>554.26</td>\n",
       "      <td>8.4178</td>\n",
       "      <td>1587.99</td>\n",
       "      <td>642.35</td>\n",
       "      <td>38.95</td>\n",
       "      <td>390</td>\n",
       "      <td>2388.03</td>\n",
       "      <td>2388.08</td>\n",
       "      <td>190</td>\n",
       "      <td>5.247024</td>\n",
       "    </tr>\n",
       "    <tr>\n",
       "      <th>3</th>\n",
       "      <td>1</td>\n",
       "      <td>47.13</td>\n",
       "      <td>9049.48</td>\n",
       "      <td>1401.87</td>\n",
       "      <td>522.86</td>\n",
       "      <td>8133.83</td>\n",
       "      <td>23.3739</td>\n",
       "      <td>554.45</td>\n",
       "      <td>8.3682</td>\n",
       "      <td>1582.79</td>\n",
       "      <td>642.35</td>\n",
       "      <td>38.88</td>\n",
       "      <td>392</td>\n",
       "      <td>2388.08</td>\n",
       "      <td>2388.11</td>\n",
       "      <td>189</td>\n",
       "      <td>5.241747</td>\n",
       "    </tr>\n",
       "    <tr>\n",
       "      <th>4</th>\n",
       "      <td>1</td>\n",
       "      <td>47.28</td>\n",
       "      <td>9055.15</td>\n",
       "      <td>1406.22</td>\n",
       "      <td>522.19</td>\n",
       "      <td>8133.80</td>\n",
       "      <td>23.4044</td>\n",
       "      <td>554.00</td>\n",
       "      <td>8.4294</td>\n",
       "      <td>1582.85</td>\n",
       "      <td>642.37</td>\n",
       "      <td>38.90</td>\n",
       "      <td>393</td>\n",
       "      <td>2388.04</td>\n",
       "      <td>2388.06</td>\n",
       "      <td>188</td>\n",
       "      <td>5.236442</td>\n",
       "    </tr>\n",
       "  </tbody>\n",
       "</table>\n",
       "</div>"
      ],
      "text/plain": [
       "   unit   Ps30       Nc      T50     phi      NRc      W32     P30     BPR  \\\n",
       "0     1  47.47  9046.19  1400.60  521.66  8138.62  23.4190  554.36  8.4195   \n",
       "1     1  47.49  9044.07  1403.14  522.28  8131.49  23.4236  553.75  8.4318   \n",
       "2     1  47.27  9052.94  1404.20  522.42  8133.23  23.3442  554.26  8.4178   \n",
       "3     1  47.13  9049.48  1401.87  522.86  8133.83  23.3739  554.45  8.3682   \n",
       "4     1  47.28  9055.15  1406.22  522.19  8133.80  23.4044  554.00  8.4294   \n",
       "\n",
       "       T30     T24    W31  htBleed      NRf       Nf  RUL   RUL_Log  \n",
       "0  1589.70  641.82  39.06      392  2388.02  2388.06  192  5.257495  \n",
       "1  1591.82  642.15  39.00      392  2388.07  2388.04  191  5.252273  \n",
       "2  1587.99  642.35  38.95      390  2388.03  2388.08  190  5.247024  \n",
       "3  1582.79  642.35  38.88      392  2388.08  2388.11  189  5.241747  \n",
       "4  1582.85  642.37  38.90      393  2388.04  2388.06  188  5.236442  "
      ]
     },
     "execution_count": 13,
     "metadata": {},
     "output_type": "execute_result"
    }
   ],
   "source": [
    "df['RUL_Log'] = df['RUL'].apply(lambda x : np.log(x))\n",
    "df.head()"
   ]
  },
  {
   "cell_type": "code",
   "execution_count": 14,
   "id": "d4507e70",
   "metadata": {},
   "outputs": [],
   "source": [
    "features = ['Ps30', 'Nc', 'T50', 'phi', 'NRc', 'W32', 'P30', 'BPR', 'T30',\n",
    "       'T24', 'W31', 'htBleed', 'NRf', 'Nf']\n",
    "label = 'RUL_Log'"
   ]
  },
  {
   "cell_type": "code",
   "execution_count": 15,
   "id": "e6172909",
   "metadata": {},
   "outputs": [],
   "source": [
    "train, test = df[0::2], df[1::2]\n",
    "train, test = train.reset_index(), test.reset_index()\n",
    "X_train, y_train = train[features], train[label]\n",
    "X_test, y_test = test[features], test[label]"
   ]
  },
  {
   "cell_type": "code",
   "execution_count": 16,
   "id": "c49b2527",
   "metadata": {},
   "outputs": [],
   "source": [
    "m1, m2, m3, m4 = rf(), xg(), lg(), cb(silent= True)"
   ]
  },
  {
   "cell_type": "code",
   "execution_count": 17,
   "id": "4ea5bf75",
   "metadata": {},
   "outputs": [
    {
     "data": {
      "text/html": [
       "<style>#sk-container-id-4 {color: black;}#sk-container-id-4 pre{padding: 0;}#sk-container-id-4 div.sk-toggleable {background-color: white;}#sk-container-id-4 label.sk-toggleable__label {cursor: pointer;display: block;width: 100%;margin-bottom: 0;padding: 0.3em;box-sizing: border-box;text-align: center;}#sk-container-id-4 label.sk-toggleable__label-arrow:before {content: \"▸\";float: left;margin-right: 0.25em;color: #696969;}#sk-container-id-4 label.sk-toggleable__label-arrow:hover:before {color: black;}#sk-container-id-4 div.sk-estimator:hover label.sk-toggleable__label-arrow:before {color: black;}#sk-container-id-4 div.sk-toggleable__content {max-height: 0;max-width: 0;overflow: hidden;text-align: left;background-color: #f0f8ff;}#sk-container-id-4 div.sk-toggleable__content pre {margin: 0.2em;color: black;border-radius: 0.25em;background-color: #f0f8ff;}#sk-container-id-4 input.sk-toggleable__control:checked~div.sk-toggleable__content {max-height: 200px;max-width: 100%;overflow: auto;}#sk-container-id-4 input.sk-toggleable__control:checked~label.sk-toggleable__label-arrow:before {content: \"▾\";}#sk-container-id-4 div.sk-estimator input.sk-toggleable__control:checked~label.sk-toggleable__label {background-color: #d4ebff;}#sk-container-id-4 div.sk-label input.sk-toggleable__control:checked~label.sk-toggleable__label {background-color: #d4ebff;}#sk-container-id-4 input.sk-hidden--visually {border: 0;clip: rect(1px 1px 1px 1px);clip: rect(1px, 1px, 1px, 1px);height: 1px;margin: -1px;overflow: hidden;padding: 0;position: absolute;width: 1px;}#sk-container-id-4 div.sk-estimator {font-family: monospace;background-color: #f0f8ff;border: 1px dotted black;border-radius: 0.25em;box-sizing: border-box;margin-bottom: 0.5em;}#sk-container-id-4 div.sk-estimator:hover {background-color: #d4ebff;}#sk-container-id-4 div.sk-parallel-item::after {content: \"\";width: 100%;border-bottom: 1px solid gray;flex-grow: 1;}#sk-container-id-4 div.sk-label:hover label.sk-toggleable__label {background-color: #d4ebff;}#sk-container-id-4 div.sk-serial::before {content: \"\";position: absolute;border-left: 1px solid gray;box-sizing: border-box;top: 0;bottom: 0;left: 50%;z-index: 0;}#sk-container-id-4 div.sk-serial {display: flex;flex-direction: column;align-items: center;background-color: white;padding-right: 0.2em;padding-left: 0.2em;position: relative;}#sk-container-id-4 div.sk-item {position: relative;z-index: 1;}#sk-container-id-4 div.sk-parallel {display: flex;align-items: stretch;justify-content: center;background-color: white;position: relative;}#sk-container-id-4 div.sk-item::before, #sk-container-id-4 div.sk-parallel-item::before {content: \"\";position: absolute;border-left: 1px solid gray;box-sizing: border-box;top: 0;bottom: 0;left: 50%;z-index: -1;}#sk-container-id-4 div.sk-parallel-item {display: flex;flex-direction: column;z-index: 1;position: relative;background-color: white;}#sk-container-id-4 div.sk-parallel-item:first-child::after {align-self: flex-end;width: 50%;}#sk-container-id-4 div.sk-parallel-item:last-child::after {align-self: flex-start;width: 50%;}#sk-container-id-4 div.sk-parallel-item:only-child::after {width: 0;}#sk-container-id-4 div.sk-dashed-wrapped {border: 1px dashed gray;margin: 0 0.4em 0.5em 0.4em;box-sizing: border-box;padding-bottom: 0.4em;background-color: white;}#sk-container-id-4 div.sk-label label {font-family: monospace;font-weight: bold;display: inline-block;line-height: 1.2em;}#sk-container-id-4 div.sk-label-container {text-align: center;}#sk-container-id-4 div.sk-container {/* jupyter's `normalize.less` sets `[hidden] { display: none; }` but bootstrap.min.css set `[hidden] { display: none !important; }` so we also need the `!important` here to be able to override the default hidden behavior on the sphinx rendered scikit-learn.org. See: https://github.com/scikit-learn/scikit-learn/issues/21755 */display: inline-block !important;position: relative;}#sk-container-id-4 div.sk-text-repr-fallback {display: none;}</style><div id=\"sk-container-id-4\" class=\"sk-top-container\"><div class=\"sk-text-repr-fallback\"><pre>RandomForestRegressor()</pre><b>In a Jupyter environment, please rerun this cell to show the HTML representation or trust the notebook. <br />On GitHub, the HTML representation is unable to render, please try loading this page with nbviewer.org.</b></div><div class=\"sk-container\" hidden><div class=\"sk-item\"><div class=\"sk-estimator sk-toggleable\"><input class=\"sk-toggleable__control sk-hidden--visually\" id=\"sk-estimator-id-4\" type=\"checkbox\" checked><label for=\"sk-estimator-id-4\" class=\"sk-toggleable__label sk-toggleable__label-arrow\">RandomForestRegressor</label><div class=\"sk-toggleable__content\"><pre>RandomForestRegressor()</pre></div></div></div></div></div>"
      ],
      "text/plain": [
       "RandomForestRegressor()"
      ]
     },
     "execution_count": 17,
     "metadata": {},
     "output_type": "execute_result"
    }
   ],
   "source": [
    "m1.fit(X_train, y_train)"
   ]
  },
  {
   "cell_type": "code",
   "execution_count": 18,
   "id": "fce06ea7",
   "metadata": {},
   "outputs": [
    {
     "data": {
      "text/html": [
       "<style>#sk-container-id-5 {color: black;}#sk-container-id-5 pre{padding: 0;}#sk-container-id-5 div.sk-toggleable {background-color: white;}#sk-container-id-5 label.sk-toggleable__label {cursor: pointer;display: block;width: 100%;margin-bottom: 0;padding: 0.3em;box-sizing: border-box;text-align: center;}#sk-container-id-5 label.sk-toggleable__label-arrow:before {content: \"▸\";float: left;margin-right: 0.25em;color: #696969;}#sk-container-id-5 label.sk-toggleable__label-arrow:hover:before {color: black;}#sk-container-id-5 div.sk-estimator:hover label.sk-toggleable__label-arrow:before {color: black;}#sk-container-id-5 div.sk-toggleable__content {max-height: 0;max-width: 0;overflow: hidden;text-align: left;background-color: #f0f8ff;}#sk-container-id-5 div.sk-toggleable__content pre {margin: 0.2em;color: black;border-radius: 0.25em;background-color: #f0f8ff;}#sk-container-id-5 input.sk-toggleable__control:checked~div.sk-toggleable__content {max-height: 200px;max-width: 100%;overflow: auto;}#sk-container-id-5 input.sk-toggleable__control:checked~label.sk-toggleable__label-arrow:before {content: \"▾\";}#sk-container-id-5 div.sk-estimator input.sk-toggleable__control:checked~label.sk-toggleable__label {background-color: #d4ebff;}#sk-container-id-5 div.sk-label input.sk-toggleable__control:checked~label.sk-toggleable__label {background-color: #d4ebff;}#sk-container-id-5 input.sk-hidden--visually {border: 0;clip: rect(1px 1px 1px 1px);clip: rect(1px, 1px, 1px, 1px);height: 1px;margin: -1px;overflow: hidden;padding: 0;position: absolute;width: 1px;}#sk-container-id-5 div.sk-estimator {font-family: monospace;background-color: #f0f8ff;border: 1px dotted black;border-radius: 0.25em;box-sizing: border-box;margin-bottom: 0.5em;}#sk-container-id-5 div.sk-estimator:hover {background-color: #d4ebff;}#sk-container-id-5 div.sk-parallel-item::after {content: \"\";width: 100%;border-bottom: 1px solid gray;flex-grow: 1;}#sk-container-id-5 div.sk-label:hover label.sk-toggleable__label {background-color: #d4ebff;}#sk-container-id-5 div.sk-serial::before {content: \"\";position: absolute;border-left: 1px solid gray;box-sizing: border-box;top: 0;bottom: 0;left: 50%;z-index: 0;}#sk-container-id-5 div.sk-serial {display: flex;flex-direction: column;align-items: center;background-color: white;padding-right: 0.2em;padding-left: 0.2em;position: relative;}#sk-container-id-5 div.sk-item {position: relative;z-index: 1;}#sk-container-id-5 div.sk-parallel {display: flex;align-items: stretch;justify-content: center;background-color: white;position: relative;}#sk-container-id-5 div.sk-item::before, #sk-container-id-5 div.sk-parallel-item::before {content: \"\";position: absolute;border-left: 1px solid gray;box-sizing: border-box;top: 0;bottom: 0;left: 50%;z-index: -1;}#sk-container-id-5 div.sk-parallel-item {display: flex;flex-direction: column;z-index: 1;position: relative;background-color: white;}#sk-container-id-5 div.sk-parallel-item:first-child::after {align-self: flex-end;width: 50%;}#sk-container-id-5 div.sk-parallel-item:last-child::after {align-self: flex-start;width: 50%;}#sk-container-id-5 div.sk-parallel-item:only-child::after {width: 0;}#sk-container-id-5 div.sk-dashed-wrapped {border: 1px dashed gray;margin: 0 0.4em 0.5em 0.4em;box-sizing: border-box;padding-bottom: 0.4em;background-color: white;}#sk-container-id-5 div.sk-label label {font-family: monospace;font-weight: bold;display: inline-block;line-height: 1.2em;}#sk-container-id-5 div.sk-label-container {text-align: center;}#sk-container-id-5 div.sk-container {/* jupyter's `normalize.less` sets `[hidden] { display: none; }` but bootstrap.min.css set `[hidden] { display: none !important; }` so we also need the `!important` here to be able to override the default hidden behavior on the sphinx rendered scikit-learn.org. See: https://github.com/scikit-learn/scikit-learn/issues/21755 */display: inline-block !important;position: relative;}#sk-container-id-5 div.sk-text-repr-fallback {display: none;}</style><div id=\"sk-container-id-5\" class=\"sk-top-container\"><div class=\"sk-text-repr-fallback\"><pre>XGBRegressor(base_score=None, booster=None, callbacks=None,\n",
       "             colsample_bylevel=None, colsample_bynode=None,\n",
       "             colsample_bytree=None, early_stopping_rounds=None,\n",
       "             enable_categorical=False, eval_metric=None, feature_types=None,\n",
       "             gamma=None, gpu_id=None, grow_policy=None, importance_type=None,\n",
       "             interaction_constraints=None, learning_rate=None, max_bin=None,\n",
       "             max_cat_threshold=None, max_cat_to_onehot=None,\n",
       "             max_delta_step=None, max_depth=None, max_leaves=None,\n",
       "             min_child_weight=None, missing=nan, monotone_constraints=None,\n",
       "             n_estimators=100, n_jobs=None, num_parallel_tree=None,\n",
       "             predictor=None, random_state=None, ...)</pre><b>In a Jupyter environment, please rerun this cell to show the HTML representation or trust the notebook. <br />On GitHub, the HTML representation is unable to render, please try loading this page with nbviewer.org.</b></div><div class=\"sk-container\" hidden><div class=\"sk-item\"><div class=\"sk-estimator sk-toggleable\"><input class=\"sk-toggleable__control sk-hidden--visually\" id=\"sk-estimator-id-5\" type=\"checkbox\" checked><label for=\"sk-estimator-id-5\" class=\"sk-toggleable__label sk-toggleable__label-arrow\">XGBRegressor</label><div class=\"sk-toggleable__content\"><pre>XGBRegressor(base_score=None, booster=None, callbacks=None,\n",
       "             colsample_bylevel=None, colsample_bynode=None,\n",
       "             colsample_bytree=None, early_stopping_rounds=None,\n",
       "             enable_categorical=False, eval_metric=None, feature_types=None,\n",
       "             gamma=None, gpu_id=None, grow_policy=None, importance_type=None,\n",
       "             interaction_constraints=None, learning_rate=None, max_bin=None,\n",
       "             max_cat_threshold=None, max_cat_to_onehot=None,\n",
       "             max_delta_step=None, max_depth=None, max_leaves=None,\n",
       "             min_child_weight=None, missing=nan, monotone_constraints=None,\n",
       "             n_estimators=100, n_jobs=None, num_parallel_tree=None,\n",
       "             predictor=None, random_state=None, ...)</pre></div></div></div></div></div>"
      ],
      "text/plain": [
       "XGBRegressor(base_score=None, booster=None, callbacks=None,\n",
       "             colsample_bylevel=None, colsample_bynode=None,\n",
       "             colsample_bytree=None, early_stopping_rounds=None,\n",
       "             enable_categorical=False, eval_metric=None, feature_types=None,\n",
       "             gamma=None, gpu_id=None, grow_policy=None, importance_type=None,\n",
       "             interaction_constraints=None, learning_rate=None, max_bin=None,\n",
       "             max_cat_threshold=None, max_cat_to_onehot=None,\n",
       "             max_delta_step=None, max_depth=None, max_leaves=None,\n",
       "             min_child_weight=None, missing=nan, monotone_constraints=None,\n",
       "             n_estimators=100, n_jobs=None, num_parallel_tree=None,\n",
       "             predictor=None, random_state=None, ...)"
      ]
     },
     "execution_count": 18,
     "metadata": {},
     "output_type": "execute_result"
    }
   ],
   "source": [
    "m2.fit(X_train, y_train)"
   ]
  },
  {
   "cell_type": "code",
   "execution_count": 19,
   "id": "617d1c25",
   "metadata": {},
   "outputs": [
    {
     "data": {
      "text/html": [
       "<style>#sk-container-id-6 {color: black;}#sk-container-id-6 pre{padding: 0;}#sk-container-id-6 div.sk-toggleable {background-color: white;}#sk-container-id-6 label.sk-toggleable__label {cursor: pointer;display: block;width: 100%;margin-bottom: 0;padding: 0.3em;box-sizing: border-box;text-align: center;}#sk-container-id-6 label.sk-toggleable__label-arrow:before {content: \"▸\";float: left;margin-right: 0.25em;color: #696969;}#sk-container-id-6 label.sk-toggleable__label-arrow:hover:before {color: black;}#sk-container-id-6 div.sk-estimator:hover label.sk-toggleable__label-arrow:before {color: black;}#sk-container-id-6 div.sk-toggleable__content {max-height: 0;max-width: 0;overflow: hidden;text-align: left;background-color: #f0f8ff;}#sk-container-id-6 div.sk-toggleable__content pre {margin: 0.2em;color: black;border-radius: 0.25em;background-color: #f0f8ff;}#sk-container-id-6 input.sk-toggleable__control:checked~div.sk-toggleable__content {max-height: 200px;max-width: 100%;overflow: auto;}#sk-container-id-6 input.sk-toggleable__control:checked~label.sk-toggleable__label-arrow:before {content: \"▾\";}#sk-container-id-6 div.sk-estimator input.sk-toggleable__control:checked~label.sk-toggleable__label {background-color: #d4ebff;}#sk-container-id-6 div.sk-label input.sk-toggleable__control:checked~label.sk-toggleable__label {background-color: #d4ebff;}#sk-container-id-6 input.sk-hidden--visually {border: 0;clip: rect(1px 1px 1px 1px);clip: rect(1px, 1px, 1px, 1px);height: 1px;margin: -1px;overflow: hidden;padding: 0;position: absolute;width: 1px;}#sk-container-id-6 div.sk-estimator {font-family: monospace;background-color: #f0f8ff;border: 1px dotted black;border-radius: 0.25em;box-sizing: border-box;margin-bottom: 0.5em;}#sk-container-id-6 div.sk-estimator:hover {background-color: #d4ebff;}#sk-container-id-6 div.sk-parallel-item::after {content: \"\";width: 100%;border-bottom: 1px solid gray;flex-grow: 1;}#sk-container-id-6 div.sk-label:hover label.sk-toggleable__label {background-color: #d4ebff;}#sk-container-id-6 div.sk-serial::before {content: \"\";position: absolute;border-left: 1px solid gray;box-sizing: border-box;top: 0;bottom: 0;left: 50%;z-index: 0;}#sk-container-id-6 div.sk-serial {display: flex;flex-direction: column;align-items: center;background-color: white;padding-right: 0.2em;padding-left: 0.2em;position: relative;}#sk-container-id-6 div.sk-item {position: relative;z-index: 1;}#sk-container-id-6 div.sk-parallel {display: flex;align-items: stretch;justify-content: center;background-color: white;position: relative;}#sk-container-id-6 div.sk-item::before, #sk-container-id-6 div.sk-parallel-item::before {content: \"\";position: absolute;border-left: 1px solid gray;box-sizing: border-box;top: 0;bottom: 0;left: 50%;z-index: -1;}#sk-container-id-6 div.sk-parallel-item {display: flex;flex-direction: column;z-index: 1;position: relative;background-color: white;}#sk-container-id-6 div.sk-parallel-item:first-child::after {align-self: flex-end;width: 50%;}#sk-container-id-6 div.sk-parallel-item:last-child::after {align-self: flex-start;width: 50%;}#sk-container-id-6 div.sk-parallel-item:only-child::after {width: 0;}#sk-container-id-6 div.sk-dashed-wrapped {border: 1px dashed gray;margin: 0 0.4em 0.5em 0.4em;box-sizing: border-box;padding-bottom: 0.4em;background-color: white;}#sk-container-id-6 div.sk-label label {font-family: monospace;font-weight: bold;display: inline-block;line-height: 1.2em;}#sk-container-id-6 div.sk-label-container {text-align: center;}#sk-container-id-6 div.sk-container {/* jupyter's `normalize.less` sets `[hidden] { display: none; }` but bootstrap.min.css set `[hidden] { display: none !important; }` so we also need the `!important` here to be able to override the default hidden behavior on the sphinx rendered scikit-learn.org. See: https://github.com/scikit-learn/scikit-learn/issues/21755 */display: inline-block !important;position: relative;}#sk-container-id-6 div.sk-text-repr-fallback {display: none;}</style><div id=\"sk-container-id-6\" class=\"sk-top-container\"><div class=\"sk-text-repr-fallback\"><pre>LGBMRegressor()</pre><b>In a Jupyter environment, please rerun this cell to show the HTML representation or trust the notebook. <br />On GitHub, the HTML representation is unable to render, please try loading this page with nbviewer.org.</b></div><div class=\"sk-container\" hidden><div class=\"sk-item\"><div class=\"sk-estimator sk-toggleable\"><input class=\"sk-toggleable__control sk-hidden--visually\" id=\"sk-estimator-id-6\" type=\"checkbox\" checked><label for=\"sk-estimator-id-6\" class=\"sk-toggleable__label sk-toggleable__label-arrow\">LGBMRegressor</label><div class=\"sk-toggleable__content\"><pre>LGBMRegressor()</pre></div></div></div></div></div>"
      ],
      "text/plain": [
       "LGBMRegressor()"
      ]
     },
     "execution_count": 19,
     "metadata": {},
     "output_type": "execute_result"
    }
   ],
   "source": [
    "m3.fit(X_train, y_train)"
   ]
  },
  {
   "cell_type": "code",
   "execution_count": 20,
   "id": "e99016af",
   "metadata": {},
   "outputs": [
    {
     "data": {
      "text/plain": [
       "<catboost.core.CatBoostRegressor at 0x23c5555a940>"
      ]
     },
     "execution_count": 20,
     "metadata": {},
     "output_type": "execute_result"
    }
   ],
   "source": [
    "m4.fit(X_train, y_train)"
   ]
  },
  {
   "cell_type": "code",
   "execution_count": 21,
   "id": "236488ef",
   "metadata": {},
   "outputs": [
    {
     "name": "stdout",
     "output_type": "stream",
     "text": [
      "0.9793777144343612 0.9505269071781702 0.9059628093954009 0.9190637667017059\n",
      "0.8504263562007587 0.8349611612604918 0.8535134200337309 0.8553732607091954\n"
     ]
    }
   ],
   "source": [
    "print(m1.score(X_train, y_train), m2.score(X_train, y_train), m3.score(X_train, y_train), m4.score(X_train, y_train))\n",
    "print(m1.score(X_test, y_test), m2.score(X_test, y_test), m3.score(X_test, y_test), m4.score(X_test, y_test))"
   ]
  },
  {
   "cell_type": "markdown",
   "id": "99f03596",
   "metadata": {},
   "source": [
    "#### Hyperparameter tuning"
   ]
  },
  {
   "cell_type": "code",
   "execution_count": 22,
   "id": "471430bf",
   "metadata": {},
   "outputs": [
    {
     "data": {
      "text/html": [
       "<style>#sk-container-id-7 {color: black;}#sk-container-id-7 pre{padding: 0;}#sk-container-id-7 div.sk-toggleable {background-color: white;}#sk-container-id-7 label.sk-toggleable__label {cursor: pointer;display: block;width: 100%;margin-bottom: 0;padding: 0.3em;box-sizing: border-box;text-align: center;}#sk-container-id-7 label.sk-toggleable__label-arrow:before {content: \"▸\";float: left;margin-right: 0.25em;color: #696969;}#sk-container-id-7 label.sk-toggleable__label-arrow:hover:before {color: black;}#sk-container-id-7 div.sk-estimator:hover label.sk-toggleable__label-arrow:before {color: black;}#sk-container-id-7 div.sk-toggleable__content {max-height: 0;max-width: 0;overflow: hidden;text-align: left;background-color: #f0f8ff;}#sk-container-id-7 div.sk-toggleable__content pre {margin: 0.2em;color: black;border-radius: 0.25em;background-color: #f0f8ff;}#sk-container-id-7 input.sk-toggleable__control:checked~div.sk-toggleable__content {max-height: 200px;max-width: 100%;overflow: auto;}#sk-container-id-7 input.sk-toggleable__control:checked~label.sk-toggleable__label-arrow:before {content: \"▾\";}#sk-container-id-7 div.sk-estimator input.sk-toggleable__control:checked~label.sk-toggleable__label {background-color: #d4ebff;}#sk-container-id-7 div.sk-label input.sk-toggleable__control:checked~label.sk-toggleable__label {background-color: #d4ebff;}#sk-container-id-7 input.sk-hidden--visually {border: 0;clip: rect(1px 1px 1px 1px);clip: rect(1px, 1px, 1px, 1px);height: 1px;margin: -1px;overflow: hidden;padding: 0;position: absolute;width: 1px;}#sk-container-id-7 div.sk-estimator {font-family: monospace;background-color: #f0f8ff;border: 1px dotted black;border-radius: 0.25em;box-sizing: border-box;margin-bottom: 0.5em;}#sk-container-id-7 div.sk-estimator:hover {background-color: #d4ebff;}#sk-container-id-7 div.sk-parallel-item::after {content: \"\";width: 100%;border-bottom: 1px solid gray;flex-grow: 1;}#sk-container-id-7 div.sk-label:hover label.sk-toggleable__label {background-color: #d4ebff;}#sk-container-id-7 div.sk-serial::before {content: \"\";position: absolute;border-left: 1px solid gray;box-sizing: border-box;top: 0;bottom: 0;left: 50%;z-index: 0;}#sk-container-id-7 div.sk-serial {display: flex;flex-direction: column;align-items: center;background-color: white;padding-right: 0.2em;padding-left: 0.2em;position: relative;}#sk-container-id-7 div.sk-item {position: relative;z-index: 1;}#sk-container-id-7 div.sk-parallel {display: flex;align-items: stretch;justify-content: center;background-color: white;position: relative;}#sk-container-id-7 div.sk-item::before, #sk-container-id-7 div.sk-parallel-item::before {content: \"\";position: absolute;border-left: 1px solid gray;box-sizing: border-box;top: 0;bottom: 0;left: 50%;z-index: -1;}#sk-container-id-7 div.sk-parallel-item {display: flex;flex-direction: column;z-index: 1;position: relative;background-color: white;}#sk-container-id-7 div.sk-parallel-item:first-child::after {align-self: flex-end;width: 50%;}#sk-container-id-7 div.sk-parallel-item:last-child::after {align-self: flex-start;width: 50%;}#sk-container-id-7 div.sk-parallel-item:only-child::after {width: 0;}#sk-container-id-7 div.sk-dashed-wrapped {border: 1px dashed gray;margin: 0 0.4em 0.5em 0.4em;box-sizing: border-box;padding-bottom: 0.4em;background-color: white;}#sk-container-id-7 div.sk-label label {font-family: monospace;font-weight: bold;display: inline-block;line-height: 1.2em;}#sk-container-id-7 div.sk-label-container {text-align: center;}#sk-container-id-7 div.sk-container {/* jupyter's `normalize.less` sets `[hidden] { display: none; }` but bootstrap.min.css set `[hidden] { display: none !important; }` so we also need the `!important` here to be able to override the default hidden behavior on the sphinx rendered scikit-learn.org. See: https://github.com/scikit-learn/scikit-learn/issues/21755 */display: inline-block !important;position: relative;}#sk-container-id-7 div.sk-text-repr-fallback {display: none;}</style><div id=\"sk-container-id-7\" class=\"sk-top-container\"><div class=\"sk-text-repr-fallback\"><pre>XGBRegressor(base_score=None, booster=None, callbacks=None,\n",
       "             colsample_bylevel=None, colsample_bynode=None,\n",
       "             colsample_bytree=None, early_stopping_rounds=None,\n",
       "             enable_categorical=False, eval_metric=None, feature_types=None,\n",
       "             gamma=None, gpu_id=None, grow_policy=None, importance_type=None,\n",
       "             interaction_constraints=None, learning_rate=None, max_bin=None,\n",
       "             max_cat_threshold=None, max_cat_to_onehot=None,\n",
       "             max_delta_step=None, max_depth=None, max_leaves=None,\n",
       "             min_child_weight=None, missing=nan, monotone_constraints=None,\n",
       "             n_estimators=100, n_jobs=None, num_parallel_tree=None,\n",
       "             predictor=None, random_state=None, ...)</pre><b>In a Jupyter environment, please rerun this cell to show the HTML representation or trust the notebook. <br />On GitHub, the HTML representation is unable to render, please try loading this page with nbviewer.org.</b></div><div class=\"sk-container\" hidden><div class=\"sk-item\"><div class=\"sk-estimator sk-toggleable\"><input class=\"sk-toggleable__control sk-hidden--visually\" id=\"sk-estimator-id-7\" type=\"checkbox\" checked><label for=\"sk-estimator-id-7\" class=\"sk-toggleable__label sk-toggleable__label-arrow\">XGBRegressor</label><div class=\"sk-toggleable__content\"><pre>XGBRegressor(base_score=None, booster=None, callbacks=None,\n",
       "             colsample_bylevel=None, colsample_bynode=None,\n",
       "             colsample_bytree=None, early_stopping_rounds=None,\n",
       "             enable_categorical=False, eval_metric=None, feature_types=None,\n",
       "             gamma=None, gpu_id=None, grow_policy=None, importance_type=None,\n",
       "             interaction_constraints=None, learning_rate=None, max_bin=None,\n",
       "             max_cat_threshold=None, max_cat_to_onehot=None,\n",
       "             max_delta_step=None, max_depth=None, max_leaves=None,\n",
       "             min_child_weight=None, missing=nan, monotone_constraints=None,\n",
       "             n_estimators=100, n_jobs=None, num_parallel_tree=None,\n",
       "             predictor=None, random_state=None, ...)</pre></div></div></div></div></div>"
      ],
      "text/plain": [
       "XGBRegressor(base_score=None, booster=None, callbacks=None,\n",
       "             colsample_bylevel=None, colsample_bynode=None,\n",
       "             colsample_bytree=None, early_stopping_rounds=None,\n",
       "             enable_categorical=False, eval_metric=None, feature_types=None,\n",
       "             gamma=None, gpu_id=None, grow_policy=None, importance_type=None,\n",
       "             interaction_constraints=None, learning_rate=None, max_bin=None,\n",
       "             max_cat_threshold=None, max_cat_to_onehot=None,\n",
       "             max_delta_step=None, max_depth=None, max_leaves=None,\n",
       "             min_child_weight=None, missing=nan, monotone_constraints=None,\n",
       "             n_estimators=100, n_jobs=None, num_parallel_tree=None,\n",
       "             predictor=None, random_state=None, ...)"
      ]
     },
     "execution_count": 22,
     "metadata": {},
     "output_type": "execute_result"
    }
   ],
   "source": [
    "sample_model = xg(reg_alpha = 0.9)\n",
    "sample_model.fit(X_train, y_train)"
   ]
  },
  {
   "cell_type": "code",
   "execution_count": 23,
   "id": "ee3530f2",
   "metadata": {},
   "outputs": [
    {
     "data": {
      "text/plain": [
       "0.8364505083228531"
      ]
     },
     "execution_count": 23,
     "metadata": {},
     "output_type": "execute_result"
    }
   ],
   "source": [
    "sample_model.score(X_test, y_test)"
   ]
  },
  {
   "cell_type": "markdown",
   "id": "b5d39e2a",
   "metadata": {},
   "source": [
    "### Optimizer"
   ]
  },
  {
   "cell_type": "code",
   "execution_count": 24,
   "id": "00fcdc17",
   "metadata": {},
   "outputs": [],
   "source": [
    "def alpha_search(alpha):\n",
    "    sample_model = xg(reg_alpha = alpha)\n",
    "    sample_model.fit(X_train, y_train)\n",
    "    return sample_model.score(X_test, y_test)"
   ]
  },
  {
   "cell_type": "code",
   "execution_count": 25,
   "id": "283f8544",
   "metadata": {},
   "outputs": [
    {
     "data": {
      "text/plain": [
       "0.8368009499247369"
      ]
     },
     "execution_count": 25,
     "metadata": {},
     "output_type": "execute_result"
    }
   ],
   "source": [
    "alpha_search(0.2)"
   ]
  },
  {
   "cell_type": "code",
   "execution_count": 26,
   "id": "f94cdf21",
   "metadata": {},
   "outputs": [],
   "source": [
    "def hyper_param(ra, rl, md, lr):\n",
    "    sample_model = xg(reg_alpha = ra, reg_lambda = rl, max_depth = int(md), learning_rate = lr)\n",
    "    sample_model.fit(X_train, y_train)\n",
    "    return sample_model.score(X_test, y_test)"
   ]
  },
  {
   "cell_type": "code",
   "execution_count": 27,
   "id": "ae6892bb",
   "metadata": {},
   "outputs": [
    {
     "data": {
      "text/plain": [
       "0.7825444137486678"
      ]
     },
     "execution_count": 27,
     "metadata": {},
     "output_type": "execute_result"
    }
   ],
   "source": [
    "hyper_param(0.2, 0.3, 10, 0.6)"
   ]
  },
  {
   "cell_type": "code",
   "execution_count": 28,
   "id": "51e02f97",
   "metadata": {},
   "outputs": [],
   "source": [
    "from bayes_opt import BayesianOptimization as bo"
   ]
  },
  {
   "cell_type": "code",
   "execution_count": 29,
   "id": "35b4ed48",
   "metadata": {},
   "outputs": [],
   "source": [
    "epsilon = 0.1 ** 10\n",
    "float_range = (epsilon, 1 - epsilon)\n",
    "pbound = { 'ra' : float_range, 'rl' : float_range, 'lr' : float_range, 'md' : (5, 20)}\n",
    "\n",
    "optimizer = bo(f = hyper_param, pbounds = pbound)"
   ]
  },
  {
   "cell_type": "code",
   "execution_count": 30,
   "id": "cf818e4e",
   "metadata": {},
   "outputs": [
    {
     "name": "stdout",
     "output_type": "stream",
     "text": [
      "|   iter    |  target   |    lr     |    md     |    ra     |    rl     |\n",
      "-------------------------------------------------------------------------\n",
      "| \u001b[0m1        \u001b[0m | \u001b[0m0.7915   \u001b[0m | \u001b[0m0.0294   \u001b[0m | \u001b[0m17.66    \u001b[0m | \u001b[0m0.2366   \u001b[0m | \u001b[0m0.3002   \u001b[0m |\n",
      "| \u001b[95m2        \u001b[0m | \u001b[95m0.8451   \u001b[0m | \u001b[95m0.07952  \u001b[0m | \u001b[95m15.22    \u001b[0m | \u001b[95m0.9534   \u001b[0m | \u001b[95m0.6362   \u001b[0m |\n",
      "| \u001b[0m3        \u001b[0m | \u001b[0m0.7724   \u001b[0m | \u001b[0m0.6757   \u001b[0m | \u001b[0m11.67    \u001b[0m | \u001b[0m0.4622   \u001b[0m | \u001b[0m0.06811  \u001b[0m |\n",
      "| \u001b[0m4        \u001b[0m | \u001b[0m0.7958   \u001b[0m | \u001b[0m0.5901   \u001b[0m | \u001b[0m12.78    \u001b[0m | \u001b[0m0.6232   \u001b[0m | \u001b[0m0.8068   \u001b[0m |\n",
      "| \u001b[0m5        \u001b[0m | \u001b[0m0.729    \u001b[0m | \u001b[0m0.9732   \u001b[0m | \u001b[0m6.262    \u001b[0m | \u001b[0m0.02305  \u001b[0m | \u001b[0m0.5878   \u001b[0m |\n",
      "| \u001b[0m6        \u001b[0m | \u001b[0m0.6832   \u001b[0m | \u001b[0m1.0      \u001b[0m | \u001b[0m15.12    \u001b[0m | \u001b[0m1e-10    \u001b[0m | \u001b[0m1e-10    \u001b[0m |\n",
      "| \u001b[0m7        \u001b[0m | \u001b[0m0.7893   \u001b[0m | \u001b[0m0.6072   \u001b[0m | \u001b[0m13.51    \u001b[0m | \u001b[0m0.7319   \u001b[0m | \u001b[0m0.9331   \u001b[0m |\n",
      "| \u001b[0m8        \u001b[0m | \u001b[0m-15.6    \u001b[0m | \u001b[0m1e-10    \u001b[0m | \u001b[0m15.08    \u001b[0m | \u001b[0m1.0      \u001b[0m | \u001b[0m1.0      \u001b[0m |\n",
      "| \u001b[0m9        \u001b[0m | \u001b[0m0.8365   \u001b[0m | \u001b[0m0.1031   \u001b[0m | \u001b[0m19.47    \u001b[0m | \u001b[0m0.3754   \u001b[0m | \u001b[0m0.362    \u001b[0m |\n",
      "| \u001b[0m10       \u001b[0m | \u001b[0m0.7753   \u001b[0m | \u001b[0m0.8075   \u001b[0m | \u001b[0m6.149    \u001b[0m | \u001b[0m0.5966   \u001b[0m | \u001b[0m0.3316   \u001b[0m |\n",
      "| \u001b[0m11       \u001b[0m | \u001b[0m0.8162   \u001b[0m | \u001b[0m0.5815   \u001b[0m | \u001b[0m5.299    \u001b[0m | \u001b[0m0.6704   \u001b[0m | \u001b[0m0.5475   \u001b[0m |\n",
      "| \u001b[0m12       \u001b[0m | \u001b[0m0.8441   \u001b[0m | \u001b[0m0.1002   \u001b[0m | \u001b[0m11.56    \u001b[0m | \u001b[0m0.858    \u001b[0m | \u001b[0m0.2827   \u001b[0m |\n",
      "| \u001b[0m13       \u001b[0m | \u001b[0m0.8274   \u001b[0m | \u001b[0m0.2151   \u001b[0m | \u001b[0m12.04    \u001b[0m | \u001b[0m0.09517  \u001b[0m | \u001b[0m0.658    \u001b[0m |\n",
      "| \u001b[0m14       \u001b[0m | \u001b[0m0.8231   \u001b[0m | \u001b[0m0.5018   \u001b[0m | \u001b[0m5.006    \u001b[0m | \u001b[0m0.1533   \u001b[0m | \u001b[0m0.8303   \u001b[0m |\n",
      "| \u001b[0m15       \u001b[0m | \u001b[0m0.8356   \u001b[0m | \u001b[0m0.1573   \u001b[0m | \u001b[0m12.65    \u001b[0m | \u001b[0m0.008151 \u001b[0m | \u001b[0m0.3146   \u001b[0m |\n",
      "| \u001b[0m16       \u001b[0m | \u001b[0m0.7289   \u001b[0m | \u001b[0m0.8855   \u001b[0m | \u001b[0m19.78    \u001b[0m | \u001b[0m0.4322   \u001b[0m | \u001b[0m0.5654   \u001b[0m |\n",
      "| \u001b[0m17       \u001b[0m | \u001b[0m0.802    \u001b[0m | \u001b[0m0.4116   \u001b[0m | \u001b[0m16.75    \u001b[0m | \u001b[0m0.0244   \u001b[0m | \u001b[0m0.6985   \u001b[0m |\n",
      "| \u001b[0m18       \u001b[0m | \u001b[0m0.828    \u001b[0m | \u001b[0m0.2822   \u001b[0m | \u001b[0m15.86    \u001b[0m | \u001b[0m0.9796   \u001b[0m | \u001b[0m0.9659   \u001b[0m |\n",
      "| \u001b[0m19       \u001b[0m | \u001b[0m0.7884   \u001b[0m | \u001b[0m0.8015   \u001b[0m | \u001b[0m5.138    \u001b[0m | \u001b[0m0.2365   \u001b[0m | \u001b[0m0.7569   \u001b[0m |\n",
      "| \u001b[0m20       \u001b[0m | \u001b[0m0.7775   \u001b[0m | \u001b[0m0.7583   \u001b[0m | \u001b[0m7.703    \u001b[0m | \u001b[0m0.4905   \u001b[0m | \u001b[0m0.9069   \u001b[0m |\n",
      "| \u001b[0m21       \u001b[0m | \u001b[0m0.8225   \u001b[0m | \u001b[0m0.5096   \u001b[0m | \u001b[0m5.009    \u001b[0m | \u001b[0m0.1945   \u001b[0m | \u001b[0m0.7629   \u001b[0m |\n",
      "| \u001b[0m22       \u001b[0m | \u001b[0m0.8244   \u001b[0m | \u001b[0m0.03463  \u001b[0m | \u001b[0m17.34    \u001b[0m | \u001b[0m0.3453   \u001b[0m | \u001b[0m0.4886   \u001b[0m |\n",
      "| \u001b[0m23       \u001b[0m | \u001b[0m0.8369   \u001b[0m | \u001b[0m0.155    \u001b[0m | \u001b[0m15.31    \u001b[0m | \u001b[0m0.9244   \u001b[0m | \u001b[0m0.3405   \u001b[0m |\n",
      "| \u001b[0m24       \u001b[0m | \u001b[0m0.7999   \u001b[0m | \u001b[0m0.6383   \u001b[0m | \u001b[0m6.508    \u001b[0m | \u001b[0m0.5358   \u001b[0m | \u001b[0m0.273    \u001b[0m |\n",
      "| \u001b[0m25       \u001b[0m | \u001b[0m0.8343   \u001b[0m | \u001b[0m0.03583  \u001b[0m | \u001b[0m12.64    \u001b[0m | \u001b[0m0.9924   \u001b[0m | \u001b[0m0.05684  \u001b[0m |\n",
      "| \u001b[0m26       \u001b[0m | \u001b[0m0.8349   \u001b[0m | \u001b[0m0.1771   \u001b[0m | \u001b[0m15.59    \u001b[0m | \u001b[0m0.9205   \u001b[0m | \u001b[0m0.5847   \u001b[0m |\n",
      "| \u001b[95m27       \u001b[0m | \u001b[95m0.8467   \u001b[0m | \u001b[95m0.08903  \u001b[0m | \u001b[95m8.819    \u001b[0m | \u001b[95m0.2332   \u001b[0m | \u001b[95m0.2451   \u001b[0m |\n",
      "| \u001b[0m28       \u001b[0m | \u001b[0m0.8254   \u001b[0m | \u001b[0m0.3379   \u001b[0m | \u001b[0m8.376    \u001b[0m | \u001b[0m0.2056   \u001b[0m | \u001b[0m0.8304   \u001b[0m |\n",
      "| \u001b[0m29       \u001b[0m | \u001b[0m0.8048   \u001b[0m | \u001b[0m0.4624   \u001b[0m | \u001b[0m16.87    \u001b[0m | \u001b[0m0.4787   \u001b[0m | \u001b[0m0.8101   \u001b[0m |\n",
      "| \u001b[0m30       \u001b[0m | \u001b[0m0.8156   \u001b[0m | \u001b[0m0.5911   \u001b[0m | \u001b[0m5.263    \u001b[0m | \u001b[0m0.6571   \u001b[0m | \u001b[0m0.5545   \u001b[0m |\n",
      "=========================================================================\n"
     ]
    }
   ],
   "source": [
    "optimizer.maximize(n_iter = 25)"
   ]
  },
  {
   "cell_type": "code",
   "execution_count": 31,
   "id": "bebc0153",
   "metadata": {},
   "outputs": [],
   "source": [
    "param_set = optimizer.max['params']"
   ]
  },
  {
   "cell_type": "code",
   "execution_count": 32,
   "id": "dd6ba1ce",
   "metadata": {},
   "outputs": [
    {
     "data": {
      "text/plain": [
       "0.8467114142598033"
      ]
     },
     "execution_count": 32,
     "metadata": {},
     "output_type": "execute_result"
    }
   ],
   "source": [
    "tuned_model = xg(reg_alpha = param_set['ra'],\n",
    "  reg_lambda = param_set['rl'],\n",
    "  learning_rate = param_set['lr'],\n",
    "  max_depth = int(param_set['md']))\n",
    "                 \n",
    "tuned_model.fit(X_train, y_train)\n",
    "tuned_model.score(X_test, y_test)"
   ]
  },
  {
   "cell_type": "code",
   "execution_count": 33,
   "id": "771ac76e",
   "metadata": {},
   "outputs": [
    {
     "name": "stdout",
     "output_type": "stream",
     "text": [
      "0.9470074347796928\n"
     ]
    }
   ],
   "source": [
    "print(tuned_model.score(X_train, y_train))"
   ]
  },
  {
   "cell_type": "code",
   "execution_count": 34,
   "id": "a00cc867",
   "metadata": {},
   "outputs": [],
   "source": [
    "# LightGBM"
   ]
  },
  {
   "cell_type": "code",
   "execution_count": 35,
   "id": "ad8e418e",
   "metadata": {},
   "outputs": [],
   "source": [
    "def hyper_param2(ra, rl, md, lr):\n",
    "    sample_model = lg(reg_alpha = ra, reg_lambda = rl, max_depth = int(md), learning_rate = lr)\n",
    "    sample_model.fit(X_train, y_train)\n",
    "    return sample_model.score(X_test, y_test)"
   ]
  },
  {
   "cell_type": "code",
   "execution_count": 36,
   "id": "2807b890",
   "metadata": {},
   "outputs": [],
   "source": [
    "epsilon = 0.1 ** 10\n",
    "float_range = (epsilon, 1 - epsilon)\n",
    "pbound = { 'ra' : float_range, 'rl' : float_range, 'lr' : float_range, 'md' : (5, 20)}\n",
    "\n",
    "optimizer = bo(f = hyper_param2, pbounds = pbound)"
   ]
  },
  {
   "cell_type": "code",
   "execution_count": 37,
   "id": "61959b58",
   "metadata": {},
   "outputs": [
    {
     "name": "stdout",
     "output_type": "stream",
     "text": [
      "|   iter    |  target   |    lr     |    md     |    ra     |    rl     |\n",
      "-------------------------------------------------------------------------\n",
      "| \u001b[0m1        \u001b[0m | \u001b[0m0.8319   \u001b[0m | \u001b[0m0.3723   \u001b[0m | \u001b[0m19.43    \u001b[0m | \u001b[0m0.8221   \u001b[0m | \u001b[0m0.4562   \u001b[0m |\n",
      "| \u001b[0m2        \u001b[0m | \u001b[0m0.8293   \u001b[0m | \u001b[0m0.4107   \u001b[0m | \u001b[0m7.375    \u001b[0m | \u001b[0m0.9074   \u001b[0m | \u001b[0m0.4004   \u001b[0m |\n",
      "| \u001b[0m3        \u001b[0m | \u001b[0m0.8038   \u001b[0m | \u001b[0m0.6264   \u001b[0m | \u001b[0m13.79    \u001b[0m | \u001b[0m0.07845  \u001b[0m | \u001b[0m0.3959   \u001b[0m |\n",
      "| \u001b[0m4        \u001b[0m | \u001b[0m0.8283   \u001b[0m | \u001b[0m0.3863   \u001b[0m | \u001b[0m12.13    \u001b[0m | \u001b[0m0.01184  \u001b[0m | \u001b[0m0.528    \u001b[0m |\n",
      "| \u001b[95m5        \u001b[0m | \u001b[95m0.8543   \u001b[0m | \u001b[95m0.06522  \u001b[0m | \u001b[95m10.03    \u001b[0m | \u001b[95m0.8253   \u001b[0m | \u001b[95m0.6914   \u001b[0m |\n",
      "| \u001b[0m6        \u001b[0m | \u001b[0m-2.899e-0\u001b[0m | \u001b[0m1e-10    \u001b[0m | \u001b[0m9.841    \u001b[0m | \u001b[0m1e-10    \u001b[0m | \u001b[0m0.5321   \u001b[0m |\n",
      "| \u001b[0m7        \u001b[0m | \u001b[0m0.8298   \u001b[0m | \u001b[0m0.3906   \u001b[0m | \u001b[0m15.96    \u001b[0m | \u001b[0m0.2598   \u001b[0m | \u001b[0m0.8223   \u001b[0m |\n",
      "| \u001b[0m8        \u001b[0m | \u001b[0m0.7545   \u001b[0m | \u001b[0m0.9978   \u001b[0m | \u001b[0m9.139    \u001b[0m | \u001b[0m0.8057   \u001b[0m | \u001b[0m0.7673   \u001b[0m |\n",
      "| \u001b[0m9        \u001b[0m | \u001b[0m0.7655   \u001b[0m | \u001b[0m0.9172   \u001b[0m | \u001b[0m15.35    \u001b[0m | \u001b[0m0.6771   \u001b[0m | \u001b[0m0.9105   \u001b[0m |\n",
      "| \u001b[0m10       \u001b[0m | \u001b[0m0.8227   \u001b[0m | \u001b[0m0.4576   \u001b[0m | \u001b[0m12.89    \u001b[0m | \u001b[0m0.5638   \u001b[0m | \u001b[0m0.7559   \u001b[0m |\n",
      "| \u001b[0m11       \u001b[0m | \u001b[0m0.8222   \u001b[0m | \u001b[0m0.4732   \u001b[0m | \u001b[0m11.05    \u001b[0m | \u001b[0m0.2514   \u001b[0m | \u001b[0m0.4467   \u001b[0m |\n",
      "| \u001b[0m12       \u001b[0m | \u001b[0m0.8182   \u001b[0m | \u001b[0m0.4837   \u001b[0m | \u001b[0m9.198    \u001b[0m | \u001b[0m0.01558  \u001b[0m | \u001b[0m0.2728   \u001b[0m |\n",
      "| \u001b[0m13       \u001b[0m | \u001b[0m0.8181   \u001b[0m | \u001b[0m0.4809   \u001b[0m | \u001b[0m13.54    \u001b[0m | \u001b[0m0.04218  \u001b[0m | \u001b[0m0.9908   \u001b[0m |\n",
      "| \u001b[0m14       \u001b[0m | \u001b[0m0.8539   \u001b[0m | \u001b[0m0.05602  \u001b[0m | \u001b[0m10.2     \u001b[0m | \u001b[0m0.8293   \u001b[0m | \u001b[0m0.7783   \u001b[0m |\n",
      "| \u001b[0m15       \u001b[0m | \u001b[0m0.8158   \u001b[0m | \u001b[0m0.555    \u001b[0m | \u001b[0m10.35    \u001b[0m | \u001b[0m0.9523   \u001b[0m | \u001b[0m0.5271   \u001b[0m |\n",
      "| \u001b[0m16       \u001b[0m | \u001b[0m0.8353   \u001b[0m | \u001b[0m0.3407   \u001b[0m | \u001b[0m9.856    \u001b[0m | \u001b[0m0.1343   \u001b[0m | \u001b[0m0.5234   \u001b[0m |\n",
      "| \u001b[0m17       \u001b[0m | \u001b[0m0.8051   \u001b[0m | \u001b[0m0.5976   \u001b[0m | \u001b[0m13.8     \u001b[0m | \u001b[0m0.04613  \u001b[0m | \u001b[0m0.3596   \u001b[0m |\n",
      "| \u001b[0m18       \u001b[0m | \u001b[0m0.8057   \u001b[0m | \u001b[0m0.6015   \u001b[0m | \u001b[0m9.862    \u001b[0m | \u001b[0m0.2461   \u001b[0m | \u001b[0m0.5151   \u001b[0m |\n",
      "| \u001b[0m19       \u001b[0m | \u001b[0m0.809    \u001b[0m | \u001b[0m0.5978   \u001b[0m | \u001b[0m17.42    \u001b[0m | \u001b[0m0.337    \u001b[0m | \u001b[0m0.9158   \u001b[0m |\n",
      "| \u001b[0m20       \u001b[0m | \u001b[0m0.8303   \u001b[0m | \u001b[0m0.4085   \u001b[0m | \u001b[0m10.09    \u001b[0m | \u001b[0m0.6477   \u001b[0m | \u001b[0m0.5997   \u001b[0m |\n",
      "| \u001b[0m21       \u001b[0m | \u001b[0m0.8314   \u001b[0m | \u001b[0m0.3774   \u001b[0m | \u001b[0m19.44    \u001b[0m | \u001b[0m0.8383   \u001b[0m | \u001b[0m0.424    \u001b[0m |\n",
      "| \u001b[0m22       \u001b[0m | \u001b[0m0.8522   \u001b[0m | \u001b[0m0.1234   \u001b[0m | \u001b[0m10.29    \u001b[0m | \u001b[0m0.8855   \u001b[0m | \u001b[0m0.3639   \u001b[0m |\n",
      "| \u001b[0m23       \u001b[0m | \u001b[0m0.7583   \u001b[0m | \u001b[0m0.9211   \u001b[0m | \u001b[0m19.71    \u001b[0m | \u001b[0m0.4456   \u001b[0m | \u001b[0m0.4279   \u001b[0m |\n",
      "| \u001b[0m24       \u001b[0m | \u001b[0m0.842    \u001b[0m | \u001b[0m0.2799   \u001b[0m | \u001b[0m9.952    \u001b[0m | \u001b[0m0.9771   \u001b[0m | \u001b[0m0.3975   \u001b[0m |\n",
      "| \u001b[0m25       \u001b[0m | \u001b[0m0.8467   \u001b[0m | \u001b[0m0.2139   \u001b[0m | \u001b[0m10.49    \u001b[0m | \u001b[0m0.6553   \u001b[0m | \u001b[0m0.6029   \u001b[0m |\n",
      "| \u001b[0m26       \u001b[0m | \u001b[0m0.8332   \u001b[0m | \u001b[0m0.3709   \u001b[0m | \u001b[0m10.05    \u001b[0m | \u001b[0m1.0      \u001b[0m | \u001b[0m0.8399   \u001b[0m |\n",
      "| \u001b[0m27       \u001b[0m | \u001b[0m0.8328   \u001b[0m | \u001b[0m0.3442   \u001b[0m | \u001b[0m16.63    \u001b[0m | \u001b[0m0.2102   \u001b[0m | \u001b[0m0.5329   \u001b[0m |\n",
      "| \u001b[0m28       \u001b[0m | \u001b[0m0.8422   \u001b[0m | \u001b[0m0.02527  \u001b[0m | \u001b[0m10.55    \u001b[0m | \u001b[0m1.0      \u001b[0m | \u001b[0m0.6356   \u001b[0m |\n",
      "| \u001b[0m29       \u001b[0m | \u001b[0m0.8005   \u001b[0m | \u001b[0m0.7203   \u001b[0m | \u001b[0m6.116    \u001b[0m | \u001b[0m0.6035   \u001b[0m | \u001b[0m0.4395   \u001b[0m |\n",
      "| \u001b[0m30       \u001b[0m | \u001b[0m0.8504   \u001b[0m | \u001b[0m0.1592   \u001b[0m | \u001b[0m10.72    \u001b[0m | \u001b[0m0.778    \u001b[0m | \u001b[0m0.2738   \u001b[0m |\n",
      "=========================================================================\n"
     ]
    }
   ],
   "source": [
    "optimizer.maximize(n_iter = 25)"
   ]
  },
  {
   "cell_type": "code",
   "execution_count": 38,
   "id": "1ab50a0e",
   "metadata": {},
   "outputs": [],
   "source": [
    "param_set2 = optimizer.max['params']"
   ]
  },
  {
   "cell_type": "code",
   "execution_count": 39,
   "id": "1ff1deb4",
   "metadata": {},
   "outputs": [
    {
     "data": {
      "text/plain": [
       "0.8467114142598033"
      ]
     },
     "execution_count": 39,
     "metadata": {},
     "output_type": "execute_result"
    }
   ],
   "source": [
    "tuned_model2 = xg(reg_alpha = param_set['ra'],\n",
    "  reg_lambda = param_set['rl'],\n",
    "  learning_rate = param_set['lr'],\n",
    "  max_depth = int(param_set['md']))\n",
    "                 \n",
    "tuned_model2.fit(X_train, y_train)\n",
    "tuned_model2.score(X_test, y_test)"
   ]
  },
  {
   "cell_type": "code",
   "execution_count": 40,
   "id": "36432980",
   "metadata": {},
   "outputs": [
    {
     "name": "stdout",
     "output_type": "stream",
     "text": [
      "0.9470074347796928\n"
     ]
    }
   ],
   "source": [
    "print(tuned_model2.score(X_train, y_train))"
   ]
  },
  {
   "cell_type": "code",
   "execution_count": 41,
   "id": "dba299f9",
   "metadata": {},
   "outputs": [],
   "source": [
    "# CatBoost"
   ]
  },
  {
   "cell_type": "code",
   "execution_count": 42,
   "id": "793bb49f",
   "metadata": {},
   "outputs": [],
   "source": [
    "def hyper_param(depth, llr):\n",
    "    sample_model = cb(depth = int(depth), l2_leaf_reg = llr, silent = True)\n",
    "    sample_model.fit(X_train, y_train)\n",
    "    return sample_model.score(X_test, y_test)"
   ]
  },
  {
   "cell_type": "code",
   "execution_count": 43,
   "id": "c8b75e1a",
   "metadata": {},
   "outputs": [],
   "source": [
    "pbounds = { 'depth' : (4, 10), 'llr' : float_range}\n",
    "optimizer = bo(f = hyper_param, pbounds = pbounds)"
   ]
  },
  {
   "cell_type": "code",
   "execution_count": 44,
   "id": "ee5d4789",
   "metadata": {},
   "outputs": [
    {
     "name": "stdout",
     "output_type": "stream",
     "text": [
      "|   iter    |  target   |   depth   |    llr    |\n",
      "-------------------------------------------------\n",
      "| \u001b[0m1        \u001b[0m | \u001b[0m0.857    \u001b[0m | \u001b[0m4.874    \u001b[0m | \u001b[0m0.7666   \u001b[0m |\n",
      "| \u001b[95m2        \u001b[0m | \u001b[95m0.8576   \u001b[0m | \u001b[95m7.397    \u001b[0m | \u001b[95m0.5681   \u001b[0m |\n",
      "| \u001b[0m3        \u001b[0m | \u001b[0m0.857    \u001b[0m | \u001b[0m8.738    \u001b[0m | \u001b[0m0.754    \u001b[0m |\n",
      "| \u001b[0m4        \u001b[0m | \u001b[0m0.8575   \u001b[0m | \u001b[0m6.199    \u001b[0m | \u001b[0m0.3464   \u001b[0m |\n",
      "| \u001b[0m5        \u001b[0m | \u001b[0m0.8567   \u001b[0m | \u001b[0m9.057    \u001b[0m | \u001b[0m0.827    \u001b[0m |\n",
      "| \u001b[0m6        \u001b[0m | \u001b[0m0.8568   \u001b[0m | \u001b[0m6.855    \u001b[0m | \u001b[0m0.4691   \u001b[0m |\n",
      "| \u001b[95m7        \u001b[0m | \u001b[95m0.8577   \u001b[0m | \u001b[95m7.567    \u001b[0m | \u001b[95m0.6204   \u001b[0m |\n",
      "| \u001b[0m8        \u001b[0m | \u001b[0m0.8568   \u001b[0m | \u001b[0m4.255    \u001b[0m | \u001b[0m0.8572   \u001b[0m |\n",
      "| \u001b[0m9        \u001b[0m | \u001b[0m0.8574   \u001b[0m | \u001b[0m7.72     \u001b[0m | \u001b[0m0.3043   \u001b[0m |\n",
      "| \u001b[95m10       \u001b[0m | \u001b[95m0.8577   \u001b[0m | \u001b[95m7.569    \u001b[0m | \u001b[95m1.0      \u001b[0m |\n",
      "| \u001b[0m11       \u001b[0m | \u001b[0m0.8571   \u001b[0m | \u001b[0m8.65     \u001b[0m | \u001b[0m0.6474   \u001b[0m |\n",
      "| \u001b[0m12       \u001b[0m | \u001b[0m0.8577   \u001b[0m | \u001b[0m7.999    \u001b[0m | \u001b[0m1.0      \u001b[0m |\n",
      "| \u001b[0m13       \u001b[0m | \u001b[0m0.8575   \u001b[0m | \u001b[0m5.681    \u001b[0m | \u001b[0m0.5122   \u001b[0m |\n",
      "| \u001b[0m14       \u001b[0m | \u001b[0m0.8571   \u001b[0m | \u001b[0m5.696    \u001b[0m | \u001b[0m1e-10    \u001b[0m |\n",
      "| \u001b[0m15       \u001b[0m | \u001b[0m0.8567   \u001b[0m | \u001b[0m9.096    \u001b[0m | \u001b[0m0.8997   \u001b[0m |\n",
      "| \u001b[0m16       \u001b[0m | \u001b[0m0.8577   \u001b[0m | \u001b[0m7.801    \u001b[0m | \u001b[0m0.7521   \u001b[0m |\n",
      "| \u001b[0m17       \u001b[0m | \u001b[0m0.8575   \u001b[0m | \u001b[0m5.973    \u001b[0m | \u001b[0m1.0      \u001b[0m |\n",
      "| \u001b[0m18       \u001b[0m | \u001b[0m0.8565   \u001b[0m | \u001b[0m9.992    \u001b[0m | \u001b[0m0.01954  \u001b[0m |\n",
      "| \u001b[0m19       \u001b[0m | \u001b[0m0.8569   \u001b[0m | \u001b[0m4.0      \u001b[0m | \u001b[0m1e-10    \u001b[0m |\n",
      "| \u001b[0m20       \u001b[0m | \u001b[0m0.8574   \u001b[0m | \u001b[0m5.527    \u001b[0m | \u001b[0m0.9999   \u001b[0m |\n",
      "| \u001b[0m21       \u001b[0m | \u001b[0m0.8577   \u001b[0m | \u001b[0m7.226    \u001b[0m | \u001b[0m1.0      \u001b[0m |\n",
      "| \u001b[0m22       \u001b[0m | \u001b[0m0.8568   \u001b[0m | \u001b[0m8.357    \u001b[0m | \u001b[0m1e-10    \u001b[0m |\n",
      "| \u001b[0m23       \u001b[0m | \u001b[0m0.8577   \u001b[0m | \u001b[0m6.565    \u001b[0m | \u001b[0m1.0      \u001b[0m |\n",
      "| \u001b[0m24       \u001b[0m | \u001b[0m0.8568   \u001b[0m | \u001b[0m8.168    \u001b[0m | \u001b[0m0.7866   \u001b[0m |\n",
      "| \u001b[0m25       \u001b[0m | \u001b[0m0.8575   \u001b[0m | \u001b[0m6.26     \u001b[0m | \u001b[0m0.7564   \u001b[0m |\n",
      "| \u001b[0m26       \u001b[0m | \u001b[0m0.8577   \u001b[0m | \u001b[0m6.905    \u001b[0m | \u001b[0m1.0      \u001b[0m |\n",
      "| \u001b[95m27       \u001b[0m | \u001b[95m0.8579   \u001b[0m | \u001b[95m7.777    \u001b[0m | \u001b[95m0.9943   \u001b[0m |\n",
      "| \u001b[0m28       \u001b[0m | \u001b[0m0.8559   \u001b[0m | \u001b[0m10.0     \u001b[0m | \u001b[0m1.0      \u001b[0m |\n",
      "| \u001b[0m29       \u001b[0m | \u001b[0m0.8575   \u001b[0m | \u001b[0m7.783    \u001b[0m | \u001b[0m0.9903   \u001b[0m |\n",
      "| \u001b[0m30       \u001b[0m | \u001b[0m0.8564   \u001b[0m | \u001b[0m9.443    \u001b[0m | \u001b[0m0.2426   \u001b[0m |\n",
      "=================================================\n"
     ]
    }
   ],
   "source": [
    "optimizer.maximize()"
   ]
  },
  {
   "cell_type": "code",
   "execution_count": 45,
   "id": "04435020",
   "metadata": {},
   "outputs": [
    {
     "data": {
      "text/plain": [
       "{'depth': 7.776964552893718, 'llr': 0.9942512022177036}"
      ]
     },
     "execution_count": 45,
     "metadata": {},
     "output_type": "execute_result"
    }
   ],
   "source": [
    "optimizer.max['params']"
   ]
  }
 ],
 "metadata": {
  "kernelspec": {
   "display_name": "Python 3 (ipykernel)",
   "language": "python",
   "name": "python3"
  },
  "language_info": {
   "codemirror_mode": {
    "name": "ipython",
    "version": 3
   },
   "file_extension": ".py",
   "mimetype": "text/x-python",
   "name": "python",
   "nbconvert_exporter": "python",
   "pygments_lexer": "ipython3",
   "version": "3.9.17"
  }
 },
 "nbformat": 4,
 "nbformat_minor": 5
}
