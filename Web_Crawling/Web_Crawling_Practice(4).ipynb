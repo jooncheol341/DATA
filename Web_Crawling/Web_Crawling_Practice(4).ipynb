{
 "cells": [
  {
   "cell_type": "code",
   "execution_count": 1,
   "id": "443b9f37",
   "metadata": {},
   "outputs": [],
   "source": [
    "import requests\n",
    "import xmltodict as xtd\n",
    "import pandas as pd\n",
    "\n",
    "def news_list(keyword):\n",
    "    url = f\"https://news.google.com/rss/search?q={keyword}&hl=ko&gl=KR&ceid=KR%3Ako\"\n",
    "    res = requests.get(url)\n",
    "    data = xtd.parse(res.text)\n",
    "    data_list = data['rss']['channel']['item']\n",
    "    news_list = pd.DataFrame(data_list)\n",
    "    return news_list.to_csv('news_list.csv', index=False , encoding= 'UTF-8')\n",
    "\n",
    "news_list('펭수')"
   ]
  },
  {
   "cell_type": "markdown",
   "id": "2e171096",
   "metadata": {},
   "source": [
    "## BeautifulSoup\n",
    "- HTML, XML 문서의 해석과 필요한 정보를 추출할 목적의 모듈\n"
   ]
  },
  {
   "cell_type": "markdown",
   "id": "b386ba2e",
   "metadata": {},
   "source": [
    "- 다른 도구 : xmltodict -> BeautifulSoup\n",
    "- 다른 프로세스 : key & value -> Tag\n"
   ]
  },
  {
   "cell_type": "code",
   "execution_count": 2,
   "id": "3cbabc34",
   "metadata": {},
   "outputs": [
    {
     "data": {
      "text/plain": [
       "'구름 많음'"
      ]
     },
     "execution_count": 2,
     "metadata": {},
     "output_type": "execute_result"
    }
   ],
   "source": [
    "import xmltodict as xtd\n",
    "import requests\n",
    "\n",
    "url = \"http://www.kma.go.kr/wid/queryDFSRSS.jsp?zone=1168054500\"\n",
    "response = requests.get(url).text\n",
    "\n",
    "data = xtd.parse(response)\n",
    "\n",
    "weather_list = data['rss']['channel']['item']['description']['body']['data']\n",
    "weather_list[0]['wfKor']"
   ]
  },
  {
   "cell_type": "code",
   "execution_count": 3,
   "id": "abec9782",
   "metadata": {},
   "outputs": [
    {
     "data": {
      "text/plain": [
       "'구름 많음'"
      ]
     },
     "execution_count": 3,
     "metadata": {},
     "output_type": "execute_result"
    }
   ],
   "source": [
    "import bs4\n",
    "import requests\n",
    "\n",
    "url = \"http://www.kma.go.kr/wid/queryDFSRSS.jsp?zone=1168054500\"\n",
    "response = requests.get(url).text\n",
    "\n",
    "#parser = parsing을 수행하는 프로그램\n",
    "#parsing = 어떤 문장을 분석하거나 문법적 관계를 해석하는 행위\n",
    "data = bs4.BeautifulSoup(response, features = 'xml')\n",
    "\n",
    "data.find('wfKor').text"
   ]
  },
  {
   "cell_type": "code",
   "execution_count": 4,
   "id": "556f6e2f",
   "metadata": {},
   "outputs": [
    {
     "data": {
      "text/plain": [
       "'비'"
      ]
     },
     "execution_count": 4,
     "metadata": {},
     "output_type": "execute_result"
    }
   ],
   "source": [
    "data.find_all('data')[13].find('wfKor').text"
   ]
  },
  {
   "cell_type": "code",
   "execution_count": 5,
   "id": "35f2faa5",
   "metadata": {},
   "outputs": [
    {
     "data": {
      "text/plain": [
       "'비'"
      ]
     },
     "execution_count": 5,
     "metadata": {},
     "output_type": "execute_result"
    }
   ],
   "source": [
    "data.find_all('wfKor')[13].text"
   ]
  },
  {
   "cell_type": "code",
   "execution_count": 6,
   "id": "308a844e",
   "metadata": {},
   "outputs": [
    {
     "data": {
      "text/plain": [
       "'비'"
      ]
     },
     "execution_count": 6,
     "metadata": {},
     "output_type": "execute_result"
    }
   ],
   "source": [
    "# find(body) -> tag 개념으로 해석한 데이터 안에서 body 태그를 하나 찾음\n",
    "# find_all('data') -> body 태그 안을 대상으로 data 태그를 전부 찾음\n",
    "# [13].find('wfKor') -> 13번째 data 태그 안에서 wfKor 태그를 찾음\n",
    "# text -> tag를 제거\n",
    "\n",
    "\n",
    "data.find('body').find_all('data')[13].find('wfKor').text"
   ]
  },
  {
   "cell_type": "code",
   "execution_count": 7,
   "id": "2d22c8e2",
   "metadata": {},
   "outputs": [],
   "source": [
    "import requests\n",
    "import bs4\n",
    "import pandas as pd\n",
    "\n",
    "li = [[],[],[]]\n",
    "url = \"http://www.kma.go.kr/wid/queryDFSRSS.jsp?zone=1168054500\"\n",
    "res = requests.get(url).text\n",
    "\n",
    "data = bs4.BeautifulSoup(res, features = 'xml')\n",
    "\n",
    "data1 = data.find('body').find_all('day')\n",
    "data2 = data.find('body').find_all('hour')\n",
    "data3 = data.find('body').find_all('wfKor')\n",
    "\n",
    "for i in data1:\n",
    "    li[0].append(i.text)\n",
    "for i in data2:\n",
    "    li[1].append(i.text)\n",
    "for i in data3:\n",
    "    li[2].append(i.text)\n",
    "\n",
    "df = pd.DataFrame(li)\n",
    "df = df.T\n",
    "df.columns = ['day', 'hour', 'wfKor']\n",
    "df.to_csv(\"weather_list.csv\", index= False, encoding = 'UTF-8')"
   ]
  },
  {
   "cell_type": "code",
   "execution_count": 8,
   "id": "e778fa2a",
   "metadata": {},
   "outputs": [],
   "source": [
    "import requests\n",
    "import bs4\n",
    "import pandas as pd\n",
    "\n",
    "li = []\n",
    "d = {}\n",
    "url = \"http://www.kma.go.kr/wid/queryDFSRSS.jsp?zone=1168054500\"\n",
    "res = requests.get(url).text\n",
    "\n",
    "data = bs4.BeautifulSoup(res, features = 'xml')\n",
    "\n",
    "weather_list = data.find_all('data')\n",
    "for i in weather_list:\n",
    "    day = i.find('day').text\n",
    "    hour = i.find('hour').text\n",
    "    wfKor = i.find('wfKor').text\n",
    "    weather_dict = {'day' : day, 'hour' : hour, 'wfKor' : wfKor}\n",
    "    li.append(weather_dict)\n",
    "\n",
    "df = pd.DataFrame(li)\n",
    "df.to_csv(\"weather_sample1.csv\", index= False, encoding = 'UTF-8')"
   ]
  },
  {
   "cell_type": "code",
   "execution_count": 9,
   "id": "52ead04e",
   "metadata": {},
   "outputs": [
    {
     "data": {
      "text/plain": [
       "<author>기상청</author>"
      ]
     },
     "execution_count": 9,
     "metadata": {},
     "output_type": "execute_result"
    }
   ],
   "source": [
    "data.rss.channel.item.author"
   ]
  },
  {
   "cell_type": "code",
   "execution_count": 10,
   "id": "105806fb",
   "metadata": {},
   "outputs": [
    {
     "data": {
      "text/plain": [
       "<wfKor>구름 많음</wfKor>"
      ]
     },
     "execution_count": 10,
     "metadata": {},
     "output_type": "execute_result"
    }
   ],
   "source": [
    "data.wfKor"
   ]
  },
  {
   "cell_type": "code",
   "execution_count": 11,
   "id": "b21faf63",
   "metadata": {},
   "outputs": [
    {
     "data": {
      "text/plain": [
       "'기상청 동네예보 웹서비스 - 서울특별시 강남구 압구정동 도표예보'"
      ]
     },
     "execution_count": 11,
     "metadata": {},
     "output_type": "execute_result"
    }
   ],
   "source": [
    "data.title.text"
   ]
  },
  {
   "cell_type": "markdown",
   "id": "ab8a7bfb",
   "metadata": {},
   "source": [
    "# 구글 뉴스 - beautifulsoup 활용"
   ]
  },
  {
   "cell_type": "code",
   "execution_count": 12,
   "id": "874567f0",
   "metadata": {},
   "outputs": [
    {
     "data": {
      "text/plain": [
       "\"尹 부친 장례식장 찾은 노사연에...'개딸'들 “제정신이냐” 마녀사냥 - 문화일보\""
      ]
     },
     "execution_count": 12,
     "metadata": {},
     "output_type": "execute_result"
    }
   ],
   "source": [
    "url = \"https://news.google.com/rss/search?q=%EB%A7%88%EB%85%80%EC%82%AC%EB%83%A5&hl=ko&gl=KR&ceid=KR%3Ako\"\n",
    "res = requests.get(url).text\n",
    "news_data = bs4.BeautifulSoup(res, features = 'xml')\n",
    "news_data.find_all('item')[0].find('title').text"
   ]
  },
  {
   "cell_type": "code",
   "execution_count": 13,
   "id": "e9f14802",
   "metadata": {},
   "outputs": [],
   "source": [
    "import requests\n",
    "import bs4\n",
    "import pandas as pd\n",
    "\n",
    "li1 = []\n",
    "def news_list1(keyword):\n",
    "    url = f\"https://news.google.com/rss/search?q={keyword}&hl=ko&gl=KR&ceid=KR%3Ako\"\n",
    "    res = requests.get(url).text\n",
    "    news_data = bs4.BeautifulSoup(res, features = 'xml')\n",
    "    item_list = news_data.find_all('item')\n",
    "    for i in item_list:\n",
    "        title = i.find('title').text\n",
    "        link = i.find('link').text\n",
    "        pubDate = i.find('pubDate').text\n",
    "        item_dict = {'title' : title, 'link' : link, 'pubDate' : pubDate}\n",
    "        li1.append(item_dict)\n",
    "    df1 = pd.DataFrame(li1)\n",
    "    return df1.to_csv(f\"{keyword}.csv\", index = False, encoding = 'UTF-8')"
   ]
  },
  {
   "cell_type": "code",
   "execution_count": 14,
   "id": "2768a1d4",
   "metadata": {},
   "outputs": [],
   "source": [
    "news_list1('마녀사냥')"
   ]
  },
  {
   "cell_type": "markdown",
   "id": "0d11e70e",
   "metadata": {},
   "source": [
    "### 기본적인 Web Crawling 절차\n",
    "- 1. 필요한 모듈을 import\n",
    "- 2. 요청할 요청문 준비\n",
    "- 3. get 요청을 보내고, 응답을 받아옴\n",
    "- 4. 해석 방식에 따라 프로세스가 달라짐\n",
    "- 5. 프로세스에 맞게 데이터를 정리 정돈\n",
    "- 6. 파일로 저장"
   ]
  },
  {
   "cell_type": "markdown",
   "id": "781e728a",
   "metadata": {},
   "source": [
    "### XML과 HTML의 차이점\n",
    "- XML은 태그 이름 태그 안 정보의 제목 역할을 함\n",
    "- HTML은 태그 이름이 태그 안 정보의 제목 역할을 안 함\n",
    "- html은 태그 이름이 화면의 디자인이나 기능의 역할을 함\n",
    "\n",
    "\n",
    "<strong> 스트롱 태그에요~~ <strong>\n",
    "<h1> 에이치원 태그에용 <h1>\n",
    "<h2> 에이치원 태그에용 <h2>\n",
    "<h3> 에이치원 태그에용 <h3>\n",
    "<h4> 에이치원 태그에용 <h4>\n"
   ]
  },
  {
   "cell_type": "code",
   "execution_count": 15,
   "id": "f60d26bc",
   "metadata": {},
   "outputs": [
    {
     "data": {
      "text/plain": [
       "['돌싱글즈 4',\n",
       " '2시 15분',\n",
       " '47년만의 루나25호 달에',\n",
       " '영재 자퇴엔 학폭',\n",
       " '천신만고 5연패 탈출',\n",
       " '규모 2.6 없을',\n",
       " '도전 달에 추락',\n",
       " '여가부장관 안한 위협',\n",
       " '진짜가 안재현 강부자에',\n",
       " '안재현 정의제 강부자에']"
      ]
     },
     "execution_count": 15,
     "metadata": {},
     "output_type": "execute_result"
    }
   ],
   "source": [
    "import requests\n",
    "import bs4\n",
    "\n",
    "li = []\n",
    "url = \"https://news.nate.com/search?q=q\"\n",
    "res = requests.get(url).text\n",
    "soup = bs4.BeautifulSoup(res, \"html.parser\")\n",
    "key_list = soup.select('.kwd-list a')\n",
    "for key in key_list:\n",
    "    li.append(key.text)\n",
    "li"
   ]
  },
  {
   "cell_type": "code",
   "execution_count": 16,
   "id": "7c515153",
   "metadata": {},
   "outputs": [
    {
     "data": {
      "text/plain": [
       "'여가부장관 안한 위협'"
      ]
     },
     "execution_count": 16,
     "metadata": {},
     "output_type": "execute_result"
    }
   ],
   "source": [
    "import requests\n",
    "import bs4\n",
    "\n",
    "li = []\n",
    "url = \"https://news.nate.com/search?q=q\"\n",
    "res = requests.get(url).text\n",
    "soup = bs4.BeautifulSoup(res)\n",
    "# span 태그를 찾는데, class가 'kwd-list'인 span 태그를 찾음\n",
    "soup.find('span', {'class' : 'kwd-list'}).find_all('a')[7].text"
   ]
  },
  {
   "cell_type": "code",
   "execution_count": 17,
   "id": "3eb3fd4c",
   "metadata": {},
   "outputs": [
    {
     "data": {
      "text/plain": [
       "['돌싱글즈 4',\n",
       " '2시 15분',\n",
       " '47년만의 루나25호 달에',\n",
       " '영재 자퇴엔 학폭',\n",
       " '천신만고 5연패 탈출',\n",
       " '규모 2.6 없을',\n",
       " '도전 달에 추락',\n",
       " '여가부장관 안한 위협',\n",
       " '진짜가 안재현 강부자에',\n",
       " '안재현 정의제 강부자에']"
      ]
     },
     "execution_count": 17,
     "metadata": {},
     "output_type": "execute_result"
    }
   ],
   "source": [
    "key_list = soup.find('span', {'class' : 'kwd-list'}).find_all('a')\n",
    "for keyword in key_list:\n",
    "    li.append(keyword.text)\n",
    "li"
   ]
  },
  {
   "cell_type": "code",
   "execution_count": 18,
   "id": "f0ae0619",
   "metadata": {},
   "outputs": [
    {
     "data": {
      "text/plain": [
       "['돌싱글즈 4',\n",
       " '2시 15분',\n",
       " '47년만의 루나25호 달에',\n",
       " '영재 자퇴엔 학폭',\n",
       " '천신만고 5연패 탈출',\n",
       " '규모 2.6 없을',\n",
       " '도전 달에 추락',\n",
       " '여가부장관 안한 위협',\n",
       " '진짜가 안재현 강부자에',\n",
       " '안재현 정의제 강부자에']"
      ]
     },
     "execution_count": 18,
     "metadata": {},
     "output_type": "execute_result"
    }
   ],
   "source": [
    "def top_10(keyword):\n",
    "    li = []\n",
    "    url = f\"https://news.nate.com/search?q={keyword}\"\n",
    "    res = requests.get(url).text\n",
    "    soup = bs4.BeautifulSoup(res)\n",
    "    key_list = soup.find('span', {'class' : 'kwd-list'}).find_all('a')\n",
    "    for keyword in key_list:\n",
    "        li.append(keyword.text)\n",
    "    return li\n",
    "top_10('ㅎ')"
   ]
  }
 ],
 "metadata": {
  "kernelspec": {
   "display_name": "Python 3 (ipykernel)",
   "language": "python",
   "name": "python3"
  },
  "language_info": {
   "codemirror_mode": {
    "name": "ipython",
    "version": 3
   },
   "file_extension": ".py",
   "mimetype": "text/x-python",
   "name": "python",
   "nbconvert_exporter": "python",
   "pygments_lexer": "ipython3",
   "version": "3.9.13"
  }
 },
 "nbformat": 4,
 "nbformat_minor": 5
}
