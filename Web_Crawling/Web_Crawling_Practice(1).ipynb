{
 "cells": [
  {
   "cell_type": "markdown",
   "id": "3db99630",
   "metadata": {},
   "source": [
    "# 웹크롤링을 위한 기본 지식 학습\n",
    "\n",
    "\n",
    "## Dictionary 안의 Dictionary\n",
    "- { key  : value } -> value가 딕셔너리로 형태\n"
   ]
  },
  {
   "cell_type": "code",
   "execution_count": 1,
   "id": "f92127f9",
   "metadata": {},
   "outputs": [
    {
     "data": {
      "text/plain": [
       "{'results': {'sunrise': '5:23:49 AM',\n",
       "  'sunset': '7:23:57 PM',\n",
       "  'solar_noon': '12:23:53 PM',\n",
       "  'day_length': '14:00:08',\n",
       "  'civil_twilight_begin': '4:56:50 AM',\n",
       "  'civil_twilight_end': '7:50:56 PM',\n",
       "  'nautical_twilight_begin': '4:22:18 AM',\n",
       "  'nautical_twilight_end': '8:25:27 PM',\n",
       "  'astronomical_twilight_begin': '3:45:16 AM',\n",
       "  'astronomical_twilight_end': '9:02:30 PM'},\n",
       " 'status': 'OK'}"
      ]
     },
     "execution_count": 1,
     "metadata": {},
     "output_type": "execute_result"
    }
   ],
   "source": [
    "data = {\"results\":{\"sunrise\":\"5:23:49 AM\",\n",
    "                   \"sunset\":\"7:23:57 PM\",\n",
    "                   \"solar_noon\":\"12:23:53 PM\",\n",
    "                   \"day_length\":\"14:00:08\",\n",
    "                   \"civil_twilight_begin\":\"4:56:50 AM\",\n",
    "                   \"civil_twilight_end\":\"7:50:56 PM\",\n",
    "                   \"nautical_twilight_begin\":\"4:22:18 AM\",\n",
    "                   \"nautical_twilight_end\":\"8:25:27 PM\",\n",
    "                   \"astronomical_twilight_begin\":\"3:45:16 AM\",\n",
    "                   \"astronomical_twilight_end\":\"9:02:30 PM\"},\n",
    "        \"status\":\"OK\"}\n",
    "data"
   ]
  },
  {
   "cell_type": "code",
   "execution_count": 2,
   "id": "d0b57367",
   "metadata": {},
   "outputs": [
    {
     "data": {
      "text/plain": [
       "'OK'"
      ]
     },
     "execution_count": 2,
     "metadata": {},
     "output_type": "execute_result"
    }
   ],
   "source": [
    "data['status']"
   ]
  },
  {
   "cell_type": "code",
   "execution_count": 3,
   "id": "38c94542",
   "metadata": {},
   "outputs": [
    {
     "data": {
      "text/plain": [
       "'14:00:08'"
      ]
     },
     "execution_count": 3,
     "metadata": {},
     "output_type": "execute_result"
    }
   ],
   "source": [
    "data['results']['day_length']"
   ]
  },
  {
   "cell_type": "code",
   "execution_count": 4,
   "id": "a4b5afe5",
   "metadata": {},
   "outputs": [
    {
     "data": {
      "text/plain": [
       "dict_keys(['results', 'status'])"
      ]
     },
     "execution_count": 4,
     "metadata": {},
     "output_type": "execute_result"
    }
   ],
   "source": [
    "data.keys()  #딕셔너리의 key값들을 확인할 수 있다."
   ]
  },
  {
   "cell_type": "code",
   "execution_count": 5,
   "id": "0c25a14b",
   "metadata": {},
   "outputs": [
    {
     "data": {
      "text/plain": [
       "dict_keys(['sunrise', 'sunset', 'solar_noon', 'day_length', 'civil_twilight_begin', 'civil_twilight_end', 'nautical_twilight_begin', 'nautical_twilight_end', 'astronomical_twilight_begin', 'astronomical_twilight_end'])"
      ]
     },
     "execution_count": 5,
     "metadata": {},
     "output_type": "execute_result"
    }
   ],
   "source": [
    "data['results'].keys()"
   ]
  },
  {
   "cell_type": "markdown",
   "id": "4667f35d",
   "metadata": {},
   "source": [
    "### word cloud만들기\n",
    "- 문자열 자르기\n"
   ]
  },
  {
   "cell_type": "code",
   "execution_count": 6,
   "id": "f00fbbaf",
   "metadata": {},
   "outputs": [],
   "source": [
    "st = \"\"\"\n",
    "'Cause I-I-I'm in the stars tonight\n",
    "So watch me bring the fire and set the night alight\n",
    "Shoes on, get up in the morn'\n",
    "Cup of milk, let's rock and roll\n",
    "King Kong, kick the drum, rolling on like a Rolling Stone\n",
    "Sing song when I'm walking home\n",
    "Jump up to the top, LeBron\n",
    "Ding dong, call me on my phone\n",
    "Ice tea and a game of ping pong, huh\n",
    "This is getting heavy\n",
    "Can you hear the bass boom? I'm ready (woo hoo)\n",
    "Life is sweet as honey\n",
    "Yeah, this beat cha-ching like money, huh\n",
    "Disco overload, I'm into that, I'm good to go\n",
    "I'm diamond, you know I glow up\n",
    "Hey, so let's go\n",
    "'Cause I-I-I'm in the stars tonight\n",
    "So watch me bring the fire and set the night alight (hey)\n",
    "Shining through the city with a little funk and soul\n",
    "So I'ma light it up like dynamite, whoa oh oh\n",
    "Bring a friend, join the crowd\n",
    "Whoever wanna come along\n",
    "Word up, talk the talk\n",
    "Just move like we off the wall\n",
    "Day or night, the sky's alight\n",
    "So we dance to the break of dawn\n",
    "Ladies and gentlemen, I got the medicine\n",
    "So you should keep ya eyes on the ball, huh\n",
    "This is getting heavy\n",
    "Can you hear the bass boom? I'm ready (woo hoo)\n",
    "Life is sweet as honey\n",
    "Yeah, this beat cha-ching like money\n",
    "Disco overload, I'm into that, I'm good to go\n",
    "I'm diamond, you know I glow up\n",
    "Let's go\n",
    "'Cause I-I-I'm in the stars tonight\n",
    "So watch me bring the fire and set the night alight (hey)\n",
    "Shining through the city with a little funk and soul\n",
    "So I'ma light it up like dynamite, whoa oh oh\n",
    "Dy-na-na-na, na-na, na-na-na, na-na-na, life is dynamite\n",
    "Dy-na-na-na, na-na, na-na-na, na-na-na, life is dynamite\n",
    "Shining through the city with a little funk and soul\n",
    "So I'ma light it up like dynamite, whoa oh oh\n",
    "Dy-na-na-na, na-na, na-na, ayy\n",
    "Dy-na-na-na, na-na, na-na, ayy\n",
    "Dy-na-na-na, na-na, na-na, ayy\n",
    "Light it up like dynamite\n",
    "Dy-na-na-na, na-na, na-na, ayy\n",
    "Dy-na-na-na, na-na, na-na, ayy\n",
    "Dy-na-na-na, na-na, na-na, ayy\n",
    "Light it up like dynamite\n",
    "'Cause I-I-I'm in the stars tonight\n",
    "So watch me bring the fire and set the night alight\n",
    "Shining through the city with a little funk and soul\n",
    "So I'ma light it up like dynamite (this is ah)\n",
    "'Cause I-I-I'm in the stars tonight\n",
    "So watch me bring the fire and set the night alight (alight, oh)\n",
    "Shining through the city with a little funk and soul\n",
    "So I'ma light it up like dynamite, whoa (light it up like dynamite)\n",
    "Dy-na-na-na, na-na, na-na-na, na-na-na, life is dynamite\n",
    "Dy-na-na-na, na-na, na-na-na, na-na-na, life is dynamite\n",
    "Shining through the city with a little funk and soul\n",
    "So I'ma light it up like dynamite, whoa oh oh\n",
    "\"\"\""
   ]
  },
  {
   "cell_type": "code",
   "execution_count": 7,
   "id": "38ec9014",
   "metadata": {},
   "outputs": [],
   "source": [
    "import turtle as t\n",
    "from random import randint as ri\n",
    "\n",
    "for i in st:           \n",
    "    if i.isalpha():\n",
    "        pass\n",
    "    else:\n",
    "        st = st.replace(i,\" \")    # 알파벳을 제외한 문자 제거\n",
    "\n",
    "st1 = st.split()   # 공백 제거\n",
    "\n",
    "d = {}     \n",
    "\n",
    "for i in set(st1):\n",
    "    d[i] = st1.count(i)   #겹치는 단어 제거해서 딕셔너리 형태로 저장\n",
    "\n",
    "# t.pu()\n",
    "# t.ht()\n",
    "# t.speed(0)\n",
    "\n",
    "# t.setup(1000, 800)\n",
    "# t.colormode(255) # color를 r,g,b 로 정할 수 있다.\n",
    "# t.color(100,100,100)\n",
    "\n",
    "# for i in d:\n",
    "#     x= ri(-350, 300)\n",
    "#     y= ri(-375, 300)\n",
    "#     t.goto(x,y)\n",
    "#     t.color(ri(0,255), ri(0,255), ri(0,255))\n",
    "#     t.write(i, font=(\"맑은고딕\", (d[i]+9)*3, \"bold\"))\n",
    "    \n",
    "# t.mainloop()\n",
    "\n",
    "    \n"
   ]
  },
  {
   "cell_type": "code",
   "execution_count": 8,
   "id": "7df5dd91",
   "metadata": {
    "scrolled": true
   },
   "outputs": [],
   "source": [
    "t.pu()                                             # turtle 모듈을 이용하여 워드클라우드 생성\n",
    "t.ht()\n",
    "t.speed(0)\n",
    "\n",
    "t.setup(1000, 800)\n",
    "t.colormode(255) # color를 r,g,b 로 정할 수 있다.\n",
    "t.color(100,100,100)\n",
    "for i in d:\n",
    "    t.color(ri(0,255), ri(0,255), ri(0,255))\n",
    "    t.goto(ri(-300, 250), ri(-250, 300))\n",
    "    t.write(i, font=(\"맑은고딕\", (d[i]+4)*2, \"bold\"))\n",
    "t.mainloop()"
   ]
  }
 ],
 "metadata": {
  "kernelspec": {
   "display_name": "Python 3 (ipykernel)",
   "language": "python",
   "name": "python3"
  },
  "language_info": {
   "codemirror_mode": {
    "name": "ipython",
    "version": 3
   },
   "file_extension": ".py",
   "mimetype": "text/x-python",
   "name": "python",
   "nbconvert_exporter": "python",
   "pygments_lexer": "ipython3",
   "version": "3.9.13"
  }
 },
 "nbformat": 4,
 "nbformat_minor": 5
}
