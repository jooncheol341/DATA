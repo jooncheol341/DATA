{
 "cells": [
  {
   "cell_type": "code",
   "execution_count": null,
   "id": "09b3ed3f",
   "metadata": {},
   "outputs": [],
   "source": [
    "import ssl\n",
    "ssl.OPENSSL_VERSION"
   ]
  },
  {
   "cell_type": "code",
   "execution_count": null,
   "id": "0cf717d0",
   "metadata": {},
   "outputs": [],
   "source": [
    "import pandas as pd\n",
    "import requests\n",
    "import bs4\n",
    "\n",
    "def top_10(keyword):\n",
    "    li = []\n",
    "    url = f\"https://news.nate.com/search?q={keyword}\"\n",
    "    res = requests.get(url).text\n",
    "    soup = bs4.BeautifulSoup(res)\n",
    "    key_list = soup.find('span', {'class' : 'kwd-list'}).find_all('a')\n",
    "    for keyword in key_list:\n",
    "        li.append(keyword.text)\n",
    "    return li\n",
    "top_10('ㅎ')"
   ]
  },
  {
   "cell_type": "code",
   "execution_count": null,
   "id": "8bccf479",
   "metadata": {},
   "outputs": [],
   "source": [
    "import xmltodict as xtd\n",
    "import time\n",
    "\n",
    "\n",
    "\n",
    "def news_list(keyword):\n",
    "    url = f\"https://news.google.com/rss/search?q={keyword}&hl=ko&gl=KR&ceid=KR%3Ako\"\n",
    "    res = requests.get(url)\n",
    "    data = xtd.parse(res.text)\n",
    "    data_list = data['rss']['channel']['item']\n",
    "    news_list = pd.DataFrame(data_list)\n",
    "    return news_list.to_csv(kw + '.csv', index=False , encoding= 'UTF-8')\n",
    "\n",
    "for kw in top_10('g'):\n",
    "    time.sleep(1)\n",
    "    news_list(kw)"
   ]
  },
  {
   "cell_type": "code",
   "execution_count": null,
   "id": "ebcb2c18",
   "metadata": {},
   "outputs": [],
   "source": [
    "url = f\"https://news.nate.com/search?q=q\"\n",
    "res = requests.get(url).text\n",
    "soup = bs4.BeautifulSoup(res)\n",
    "key_list = soup.find('span', {'class' : 'kwd-list'})\n",
    "key_list.find_next().find_next() #계속 쓰면 계속 볼 수 있다."
   ]
  },
  {
   "cell_type": "code",
   "execution_count": null,
   "id": "574af4d7",
   "metadata": {},
   "outputs": [],
   "source": [
    "import re\n",
    "#원하는 단어가 포함된 키워드를 찾을 수 있다.\n",
    "kw = soup.find('a', string=re.compile('침수'))\n",
    "kw\n"
   ]
  },
  {
   "cell_type": "code",
   "execution_count": null,
   "id": "0c1fa1e5",
   "metadata": {},
   "outputs": [],
   "source": [
    "import requests\n",
    "import pandas as pd\n",
    "import bs4\n",
    "\n",
    "bt_list = []\n",
    "url = \"https://www.aladin.co.kr/shop/common/wbest.aspx?BranchType=1&start=we\"\n",
    "res = requests.get(url).text\n",
    "soup = bs4.BeautifulSoup(res)\n",
    "book_title = soup.find_all('a', {'class' : 'bo3'})\n",
    "for bt in book_title:\n",
    "    bt_list.append(bt.text)\n",
    "bt_list"
   ]
  },
  {
   "cell_type": "markdown",
   "id": "7787f20a",
   "metadata": {},
   "source": [
    "## HTML 다루기\n",
    "\n",
    "- top - down 방식\n",
    "- bottom - up 방식\n"
   ]
  },
  {
   "cell_type": "code",
   "execution_count": null,
   "id": "289b98c3",
   "metadata": {},
   "outputs": [],
   "source": [
    "# bottom - up 방식  그냥 해당 태그를 찍어보기 \n",
    "bt_list1 = []\n",
    "url = \"https://www.aladin.co.kr/shop/common/wbest.aspx?BranchType=1&start=we\"\n",
    "res = requests.get(url).text\n",
    "soup = bs4.BeautifulSoup(res)\n",
    "book_title = soup.find_all('b')\n",
    "for bt in book_title[2::3]:\n",
    "    bt_list1.append(bt.text)\n",
    "bt_list1"
   ]
  },
  {
   "cell_type": "code",
   "execution_count": null,
   "id": "bc66cd62",
   "metadata": {},
   "outputs": [],
   "source": [
    "#top - down 방식\n",
    "import requests\n",
    "import pandas as pd\n",
    "import bs4\n",
    "\n",
    "bt_list = []\n",
    "bt_list1 = []\n",
    "url = \"https://www.aladin.co.kr/shop/common/wbest.aspx?BranchType=1&start=we\"\n",
    "res = requests.get(url).text\n",
    "soup = bs4.BeautifulSoup(res)\n",
    "book_title = soup.find_all('div', {'class' : 'ss_book_box'})\n",
    "for btag in book_title:\n",
    "    bt_list.append(btag.find('div', {'class' : 'ss_book_list'}))\n",
    "for btag in bt_list:\n",
    "    bt_list1.append(btag.find('b').text)\n",
    "bt_list1\n",
    "\n"
   ]
  },
  {
   "cell_type": "code",
   "execution_count": null,
   "id": "c2d676d9",
   "metadata": {},
   "outputs": [],
   "source": [
    "def best_book():\n",
    "    bt_list = []\n",
    "    bt_list1 = []\n",
    "    url = \"https://www.aladin.co.kr/shop/common/wbest.aspx?BranchType=1&start=we\"\n",
    "    res = requests.get(url).text\n",
    "    soup = bs4.BeautifulSoup(res)\n",
    "    book_title = soup.find_all('div', {'class' : 'ss_book_box'})\n",
    "    for btag in book_title:\n",
    "        bt_list.append(btag.find('div', {'class' : 'ss_book_list'}))\n",
    "    for btag in bt_list:\n",
    "        bt_list1.append(btag.find('b').text)\n",
    "    return bt_list1\n",
    "best_book()"
   ]
  },
  {
   "cell_type": "code",
   "execution_count": null,
   "id": "24c7887b",
   "metadata": {},
   "outputs": [],
   "source": [
    "def best_book():\n",
    "    bt_list = []\n",
    "    url = \"https://www.aladin.co.kr/shop/common/wbest.aspx?BranchType=1&start=we\"\n",
    "    res = requests.get(url).text\n",
    "    soup = bs4.BeautifulSoup(res)\n",
    "    book_title = soup.find_all('div', {'class' : 'ss_book_box'})\n",
    "    for one_book in book_title:\n",
    "        midpoint = one_book.find('div', {'class' : 'ss_book_list'})\n",
    "        bt_list.append(midpoint.find('a', {'class' : 'bo3'}).find('b').text)\n",
    "    return bt_list\n",
    "best_book()"
   ]
  },
  {
   "cell_type": "markdown",
   "id": "41610e0c",
   "metadata": {},
   "source": [
    "## select \n",
    "- find와 유사한 기능을 제공하지만 검색에 유연하게 활용할 수 있음\n",
    "- select는 CSS 선택자의 형식에 따라 태그를 검색함"
   ]
  },
  {
   "cell_type": "code",
   "execution_count": null,
   "id": "6fb70bf7",
   "metadata": {},
   "outputs": [],
   "source": [
    "url = \"https://www.aladin.co.kr/shop/common/wbest.aspx?BranchType=1&start=we\"\n",
    "res = requests.get(url).text\n",
    "soup = bs4.BeautifulSoup(res)\n",
    "book_list = []\n",
    "#soup.select('.bo3') # .find('a', {'class' : 'bo3'})\n",
    "#soup.select('div#newbg_body') #id로 검색\n",
    "btag = soup.select('div.ss_book_box div.ss_book_list a.bo3 b')\n",
    "for i in btag:\n",
    "    book_list.append(i.text)\n",
    "book_list"
   ]
  },
  {
   "cell_type": "code",
   "execution_count": null,
   "id": "084e45a1",
   "metadata": {},
   "outputs": [],
   "source": [
    "soup.select('link + style')"
   ]
  },
  {
   "cell_type": "code",
   "execution_count": null,
   "id": "527b21cb",
   "metadata": {},
   "outputs": [],
   "source": [
    "soup.select('div > a')\n",
    "#직접적인 내포 관계에 있는 경우만을 검색"
   ]
  },
  {
   "cell_type": "code",
   "execution_count": null,
   "id": "315d7730",
   "metadata": {},
   "outputs": [],
   "source": [
    "for book_name in soup.select('div.ss_book_list > ul > li:nth-of-type(2) > a.bo3 b'):\n",
    "    print(book_name.get_text())"
   ]
  },
  {
   "cell_type": "code",
   "execution_count": null,
   "id": "3cc50165",
   "metadata": {},
   "outputs": [],
   "source": [
    "soup.select('a[href^=https]')\n",
    "# a 태그 중에서 href 속성이 hrrps로 시작하는 태그를 찾음"
   ]
  },
  {
   "cell_type": "markdown",
   "id": "4c80d3b6",
   "metadata": {},
   "source": [
    "- 영풍문고에도 베스트셀러가 있다. 제목들 가져오기 , 이미지도 가져와보기"
   ]
  },
  {
   "cell_type": "code",
   "execution_count": null,
   "id": "e9502c9f",
   "metadata": {},
   "outputs": [],
   "source": [
    "import requests\n",
    "import bs4\n",
    "\n",
    "url = \"http://www.ypbooks.co.kr/book_arrange.yp?targetpage=book_week_best&pagetype=5&depth=1\"\n",
    "response = requests.get(url).text\n",
    "data = bs4.BeautifulSoup(response)\n",
    "\n",
    "li = []\n",
    "\n",
    "book_title = data.find_all(\"a\", {'class' : 'boxiconset_bk_tt'})\n",
    "for title in book_title:\n",
    "    li.append(title.text)\n",
    "li"
   ]
  }
 ],
 "metadata": {
  "kernelspec": {
   "display_name": "Python 3 (ipykernel)",
   "language": "python",
   "name": "python3"
  },
  "language_info": {
   "codemirror_mode": {
    "name": "ipython",
    "version": 3
   },
   "file_extension": ".py",
   "mimetype": "text/x-python",
   "name": "python",
   "nbconvert_exporter": "python",
   "pygments_lexer": "ipython3",
   "version": "3.9.13"
  }
 },
 "nbformat": 4,
 "nbformat_minor": 5
}
