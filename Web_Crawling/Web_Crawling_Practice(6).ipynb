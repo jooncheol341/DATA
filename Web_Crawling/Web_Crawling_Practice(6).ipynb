{
 "cells": [
  {
   "cell_type": "markdown",
   "id": "329f5ea6",
   "metadata": {},
   "source": [
    "### 유투브는 반응형 페이지 스크롤을 내림에 따라 페이지가 계속 변경 "
   ]
  },
  {
   "cell_type": "markdown",
   "id": "e6d8fb8b",
   "metadata": {},
   "source": [
    "## selenium\n",
    "- 브라우저 조작을 자동화 할 수 있는 도구\n",
    "- 자동화 : 마우스 클릭, 키보드 입력\n",
    "- 본 목적 : 웹 테스트를 자동으로 하기 위해 만들어짐\n"
   ]
  },
  {
   "cell_type": "markdown",
   "id": "f3733063",
   "metadata": {},
   "source": [
    "## selenium의 장단점\n",
    "- 장점 : requests는 동적인 로딩 페이지에서 제대로 된 정보를 얻기 어려웠지만 \n",
    "         selenium은 직접 브라우저를 제어하기 때문에 모든 동적인 활동에 대응할 수 있음.\n",
    "- 단점 : 실행 속도가 느려짐"
   ]
  },
  {
   "cell_type": "code",
   "execution_count": null,
   "id": "02cf830b",
   "metadata": {},
   "outputs": [],
   "source": [
    "from selenium.webdriver import Chrome\n",
    "# driver = webdriver.Chrome()\n",
    "# url = 'https://www.google.com'\n",
    "# driver.get(url)"
   ]
  },
  {
   "cell_type": "markdown",
   "id": "f9877aab",
   "metadata": {},
   "source": [
    "## Driver\n",
    "- 웹 브라우저를 중간에 제어하는 역할"
   ]
  },
  {
   "cell_type": "code",
   "execution_count": null,
   "id": "b48993ed",
   "metadata": {},
   "outputs": [],
   "source": [
    "# 크롬 창 열기\n",
    "\n",
    "driver = Chrome('chromedriver')"
   ]
  },
  {
   "cell_type": "code",
   "execution_count": null,
   "id": "468a5174",
   "metadata": {},
   "outputs": [],
   "source": [
    "# 크롬 창 끄기\n",
    "\n",
    "driver.close()"
   ]
  },
  {
   "cell_type": "code",
   "execution_count": null,
   "id": "3afa9442",
   "metadata": {},
   "outputs": [],
   "source": [
    "from selenium.webdriver import Chrome\n",
    "import time\n",
    "\n",
    "\n",
    "driver = Chrome('chromedriver')\n",
    "time.sleep(3)\n",
    "\n",
    "url = 'https://www.naver.com/'\n",
    "driver.get(url)\n",
    "time.sleep(3)\n",
    "\n",
    "driver.back()\n",
    "time.sleep(3)\n",
    "\n",
    "driver.close()"
   ]
  },
  {
   "cell_type": "code",
   "execution_count": null,
   "id": "9f783b55",
   "metadata": {},
   "outputs": [],
   "source": [
    "#import requests\n",
    "from selenium.webdriver import Chrome\n",
    "import bs4\n",
    "\n",
    "driver = Chrome('chromedriver')\n",
    "time.sleep(3)\n",
    "\n",
    "url = 'https://news.nate.com/search?q=abcde'\n",
    "driver.get(url)\n",
    "response = driver.page_source\n",
    "time.sleep(3)\n",
    "\n",
    "driver.close()\n",
    "\n",
    "one_page = bs4.BeautifulSoup(response)\n",
    "kwd_area = one_page.find('span', {\"class\" : \"kwd-list\"})\n",
    "kwd_area.find_all('a')[8].text"
   ]
  },
  {
   "cell_type": "code",
   "execution_count": null,
   "id": "777b9224",
   "metadata": {},
   "outputs": [],
   "source": [
    "driver = Chrome('chromedriver')\n",
    "\n",
    "url = 'https://www.aladin.co.kr/shop/common/wbest.aspx?BranchType=1'\n",
    "driver.get(url)\n",
    "response = driver.page_source\n",
    "driver.close()\n",
    "one_page = bs4.BeautifulSoup(response)\n",
    "\n",
    "book_list = []\n",
    "for book in one_page.find_all('b')[2::3]:\n",
    "    book_list.append(book.text)\n",
    "print(book_list)"
   ]
  },
  {
   "cell_type": "markdown",
   "id": "2ba9eed5",
   "metadata": {},
   "source": [
    "#### 타이핑 절차\n",
    "1. 어디서 타이핑을 할건지 원하는 위치를 찾는다.\n",
    "2. 원하는 것을 선택한다.\n",
    "3. 원하는 정보를 입력한다.\n",
    "\n",
    "#### 클릭의 절차\n",
    "1. 어디를 클릭할건지 찾는다.\n",
    "2. 원하는 것을 선택한다.\n",
    "3. 원하는 것을 찾아서 원하는 위치로 가서 클릭을 한다.\n",
    "\n",
    "#### 클릭과 타이핑이 공통으로 적용되는 일반화된 문장\n",
    "1. 화면을 구성하는 구성요소(A)를 찾는다.\n",
    "2. 구성요소인 A에 대해여 B라는 행위를 한다.\n",
    "- \"A\"라는 구성요소를 선택한 이후에 A,B()라는 행위를 할 수 있게 A에 대해 B라는 메서드를 실행"
   ]
  },
  {
   "cell_type": "code",
   "execution_count": null,
   "id": "688b1268",
   "metadata": {},
   "outputs": [],
   "source": [
    "from selenium.webdriver.common.by import By"
   ]
  },
  {
   "cell_type": "code",
   "execution_count": null,
   "id": "5b38f477",
   "metadata": {},
   "outputs": [],
   "source": [
    "driver = Chrome('chromedriver')\n",
    "time.sleep(3)\n",
    "\n",
    "url = 'https://www.aladin.co.kr/home/wusedshopmain.aspx?start=we_tab'\n",
    "driver.get(url)\n",
    "time.sleep(3)\n",
    "\n",
    "box_path = '//*[@id=\"SearchWord\"]'\n",
    "box = driver.find_element(By.XPATH, box_path)\n",
    "box.send_keys('하얼빈')\n",
    "time.sleep(3)\n",
    "\n",
    "btn_path = '//*[@id=\"global_search\"]/input'\n",
    "btn = driver.find_element(By.XPATH, btn_path)\n",
    "btn.click()\n",
    "time.sleep(3)\n",
    "\n",
    "response = driver.page_source\n",
    "\n",
    "driver.close()"
   ]
  },
  {
   "cell_type": "code",
   "execution_count": null,
   "id": "aef27b75",
   "metadata": {},
   "outputs": [],
   "source": [
    "def one_page_all_books(response):\n",
    "    one_page = bs4.BeautifulSoup(response)\n",
    "    one_page_all_books = one_page.find_all('div', {'class':'ss_book_box'})\n",
    "    \n",
    "    book_list = []\n",
    "    for one_book in one_page_all_books:\n",
    "        midpoint = one_book.find('div', {'class':'ss_book_list'})\n",
    "        book_list.append(midpoint.find('a', {'class':'bo3'}).find('b').text)\n",
    "    return book_list"
   ]
  },
  {
   "cell_type": "code",
   "execution_count": null,
   "id": "af90180f",
   "metadata": {},
   "outputs": [],
   "source": [
    "one_page_all_books(response)"
   ]
  },
  {
   "cell_type": "code",
   "execution_count": null,
   "id": "1e601a7e",
   "metadata": {},
   "outputs": [],
   "source": [
    "# 현재 인기있는 책 목록 출력\n",
    "\n",
    "def best_books():\n",
    "    url = 'https://www.aladin.co.kr/shop/common/wbest.aspx?BranchType=1'\n",
    "    response = requests.get(url).text\n",
    "    one_page = bs4.BeautifulSoup(response)\n",
    "    one_page_all_books = one_page.find_all('div', {'class' : 'ss_book_box'})\n",
    "    \n",
    "    book_list = []\n",
    "    for one_book in one_page_all_books[:3]:\n",
    "        midpoint = one_book.find('div', {'class' : 'ss_book_list'})\n",
    "        book_list.append(midpoint.find('a', {'class' : 'bo3'}).find('b').text)\n",
    "    return book_list"
   ]
  },
  {
   "cell_type": "code",
   "execution_count": null,
   "id": "a78db3ca",
   "metadata": {},
   "outputs": [],
   "source": [
    "best_books()"
   ]
  },
  {
   "cell_type": "code",
   "execution_count": null,
   "id": "cc8c0602",
   "metadata": {},
   "outputs": [],
   "source": [
    "driver = Chrome('chromedriver')\n",
    "time.sleep(2)\n",
    "\n",
    "url = 'https://www.aladin.co.kr/home/wusedshopmain.aspx?start=we_tab'\n",
    "driver.get(url)\n",
    "time.sleep(2)\n",
    "\n",
    "all_results = []\n",
    "for best_book in best_books():\n",
    "    box_path = '//*[@id=\"SearchWord\"]'\n",
    "    box = driver.find_element(By.XPATH, box_path)\n",
    "    box.clear()\n",
    "    box.send_keys(best_book)\n",
    "    \n",
    "    btn_path = '//*[@id=\"global_search\"]/input'\n",
    "    btn = driver.find_element(By.XPATH, btn_path)\n",
    "    btn.click()\n",
    "    time.sleep(1)\n",
    "    \n",
    "    result = one_page_all_books(driver.page_source)\n",
    "    all_results.append({'best_book': best_book, 'result':result})"
   ]
  },
  {
   "cell_type": "code",
   "execution_count": null,
   "id": "5da5246a",
   "metadata": {},
   "outputs": [],
   "source": [
    "all_results"
   ]
  },
  {
   "cell_type": "markdown",
   "id": "cb7bc912",
   "metadata": {},
   "source": [
    "# 법적 권고안\n",
    "- '권고'이기 때문에 지키지 않아도 법적 문제가 직접적으로 발생하진 않음\n",
    "- robots.txt : 관리자가 사이트를 만들 때, 사이트에서 가져가도되는지 안되는지에 대한 내용을 기술 \n",
    "\n",
    "# 법적 문제가 된 예시\n",
    "\n",
    "- 사람인, 잡코리아\n",
    "- 여기어때, 야놀자\n",
    "- 다윈프로퍼티, 네이버\n",
    "- 경쟁 업체이고, 사업의 목적이 같음 -> 크롤링이라는 행위가 불법이 아니라 그 행위로 인해 상대방의 영위에 영향을 줬다는 것이 법리적인 해석"
   ]
  }
 ],
 "metadata": {
  "kernelspec": {
   "display_name": "Python 3 (ipykernel)",
   "language": "python",
   "name": "python3"
  },
  "language_info": {
   "codemirror_mode": {
    "name": "ipython",
    "version": 3
   },
   "file_extension": ".py",
   "mimetype": "text/x-python",
   "name": "python",
   "nbconvert_exporter": "python",
   "pygments_lexer": "ipython3",
   "version": "3.9.13"
  }
 },
 "nbformat": 4,
 "nbformat_minor": 5
}
