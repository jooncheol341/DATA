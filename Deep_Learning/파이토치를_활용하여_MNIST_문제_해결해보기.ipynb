{
  "nbformat": 4,
  "nbformat_minor": 0,
  "metadata": {
    "colab": {
      "provenance": []
    },
    "kernelspec": {
      "name": "python3",
      "display_name": "Python 3"
    },
    "language_info": {
      "name": "python"
    }
  },
  "cells": [
    {
      "cell_type": "code",
      "execution_count": 1,
      "metadata": {
        "id": "1Ph8pQ3-lr_I"
      },
      "outputs": [],
      "source": [
        "# 필요 패키지 호출 및 데이터 다운로드\n",
        "import torch\n",
        "import torch.nn as nn\n",
        "import torch.nn.functional as F\n",
        "import torch.optim as optim\n",
        "import torchvision.datasets as dataset\n",
        "import torchvision.transforms as transforms\n",
        "import numpy as np"
      ]
    },
    {
      "cell_type": "code",
      "source": [
        "# MNIST 데이터 불러오기\n",
        "mnist_train = dataset.MNIST(root = './MNIST_data', train = True,\n",
        "                            transform = transforms.ToTensor(),\n",
        "                            download = True)\n",
        "\n",
        "mnist_test = dataset.MNIST(root = './MNIST_data', train = False,\n",
        "                           transform = transforms.ToTensor(),\n",
        "                           download = True)"
      ],
      "metadata": {
        "id": "BNAI2zxsmLGb"
      },
      "execution_count": 2,
      "outputs": []
    },
    {
      "cell_type": "code",
      "source": [
        "# sample\n",
        "import matplotlib.pyplot as plt\n",
        "\n",
        "img, label = mnist_train[0]             # 1\n",
        "plt.imshow(img[0,:,:], cmap = 'gray')   # 2\n",
        "print(f'레이블(숫자): {label}')         # 3"
      ],
      "metadata": {
        "colab": {
          "base_uri": "https://localhost:8080/",
          "height": 448
        },
        "id": "OixkvAwWnAD1",
        "outputId": "b0d9b68a-299b-49c6-da3f-95fd303bd665"
      },
      "execution_count": 3,
      "outputs": [
        {
          "output_type": "stream",
          "name": "stdout",
          "text": [
            "레이블(숫자): 5\n"
          ]
        },
        {
          "output_type": "display_data",
          "data": {
            "text/plain": [
              "<Figure size 640x480 with 1 Axes>"
            ],
            "image/png": "[encoded data removed]"
          },
          "metadata": {}
        }
      ]
    },
    {
      "cell_type": "code",
      "source": [
        "train_loader = torch.utils.data.DataLoader(mnist_train, batch_size = 32,\n",
        "                                          shuffle = True, drop_last = False)\n",
        "test_loader = torch.utils.data.DataLoader(mnist_test, batch_size = 32,\n",
        "                                          shuffle = False, drop_last = False)"
      ],
      "metadata": {
        "id": "O3QT6bYJnAGE"
      },
      "execution_count": 4,
      "outputs": []
    },
    {
      "cell_type": "code",
      "source": [
        "data_batch, label_batch = next(iter(train_loader))\n",
        "print(f'데이터 배치: {data_batch.shape}')\n",
        "print(f'레이블 배치: {label_batch.shape}')"
      ],
      "metadata": {
        "colab": {
          "base_uri": "https://localhost:8080/"
        },
        "id": "o7OQvi0jnAIk",
        "outputId": "4c3170fb-22b0-42b9-efc5-25c540ae22ac"
      },
      "execution_count": 5,
      "outputs": [
        {
          "output_type": "stream",
          "name": "stdout",
          "text": [
            "데이터 배치: torch.Size([32, 1, 28, 28])\n",
            "레이블 배치: torch.Size([32])\n"
          ]
        }
      ]
    },
    {
      "cell_type": "code",
      "source": [
        "# 인공 신경망 모델 생성\n",
        "\n",
        "class MNIST_full(nn.Module):\n",
        "  def __init__(self):\n",
        "    super(MNIST_full, self).__init__()\n",
        "    self.lin1 = nn.Linear(784,256)\n",
        "    self.lin2 = nn.Linear(256,128)\n",
        "    self.lin3 = nn.Linear(128,10)\n",
        "  def forward(self, x):\n",
        "    x = x.view(-1, 784)\n",
        "    x = F.relu(self.lin1(x))\n",
        "    x = F.relu(self.lin2(x))\n",
        "    x = F.softmax(self.lin3(x), dim = 1)\n",
        "    return x"
      ],
      "metadata": {
        "id": "GoqsTC80nAK1"
      },
      "execution_count": 18,
      "outputs": []
    },
    {
      "cell_type": "code",
      "source": [],
      "metadata": {
        "id": "UQi6ZPUg0t1u"
      },
      "execution_count": 7,
      "outputs": []
    },
    {
      "cell_type": "code",
      "source": [
        "model = MNIST_full()\n",
        "optimizer = optim.Adam(model.parameters(), lr = 0.001)"
      ],
      "metadata": {
        "id": "2vq7B9X10t4F"
      },
      "execution_count": 19,
      "outputs": []
    },
    {
      "cell_type": "code",
      "source": [
        "# 목적함수 정의\n",
        "\n",
        "criterion = nn.CrossEntropyLoss()"
      ],
      "metadata": {
        "id": "L7ce7pKp0t6t"
      },
      "execution_count": 20,
      "outputs": []
    },
    {
      "cell_type": "code",
      "source": [
        "# 학습\n",
        "\n",
        "for epoch in range(3):\n",
        "  print(f'Epoch: {epoch + 1}')\n",
        "  loss_buffer = []\n",
        "  for idx, (x, y) in enumerate(train_loader):\n",
        "    y_onehot = torch.zeros((y.shape[0],10))\n",
        "    y_onehot[range(y.shape[0]),y] = 1\n",
        "\n",
        "    y_infer = model(x)\n",
        "    loss = criterion(y_infer, y)\n",
        "    optimizer.zero_grad()\n",
        "    loss.backward()\n",
        "    optimizer.step()\n",
        "    loss_buffer.append(loss.item())\n",
        "    if idx % 600 == 0:\n",
        "      print(f'Iteration:{idx} Train loss {np.mean(loss_buffer):.3f}')"
      ],
      "metadata": {
        "colab": {
          "base_uri": "https://localhost:8080/"
        },
        "id": "78Td2LJL0t89",
        "outputId": "5f403f3d-3e03-4b2d-bb3c-ba4b61b479e0"
      },
      "execution_count": 21,
      "outputs": [
        {
          "output_type": "stream",
          "name": "stdout",
          "text": [
            "Epoch: 1\n",
            "Iteration:0 Train loss 2.303\n",
            "Iteration:600 Train loss 1.638\n",
            "Iteration:1200 Train loss 1.590\n",
            "Iteration:1800 Train loss 1.570\n",
            "Epoch: 2\n",
            "Iteration:0 Train loss 1.568\n",
            "Iteration:600 Train loss 1.515\n",
            "Iteration:1200 Train loss 1.512\n",
            "Iteration:1800 Train loss 1.511\n",
            "Epoch: 3\n",
            "Iteration:0 Train loss 1.471\n",
            "Iteration:600 Train loss 1.500\n",
            "Iteration:1200 Train loss 1.501\n",
            "Iteration:1800 Train loss 1.500\n"
          ]
        }
      ]
    },
    {
      "cell_type": "code",
      "source": [
        "# 시험용 데이터 정확도 측정\n",
        "\n",
        "acc = []\n",
        "for x,y in test_loader:\n",
        "  y_infer = model(x)\n",
        "  correct_prediction = torch.argmax(y_infer, 1) == y\n",
        "  acc.append(correct_prediction.float().mean())\n",
        "print(f'Test loss {np.mean(loss_buffer):f}, Accuracy: {np.mean(acc)*100:f}%')"
      ],
      "metadata": {
        "colab": {
          "base_uri": "https://localhost:8080/"
        },
        "id": "UzvUz-Oj0uB_",
        "outputId": "8ce372e6-87c8-44c5-e771-a64ad48165f6"
      },
      "execution_count": 23,
      "outputs": [
        {
          "output_type": "stream",
          "name": "stdout",
          "text": [
            "Test loss 1.499834, Accuracy: 96.815097%\n"
          ]
        }
      ]
    },
    {
      "cell_type": "code",
      "source": [
        "# 단일 데이터에 대한 평가\n",
        "\n",
        "import random\n",
        "\n",
        "img, label = random.choice(mnist_test)\n",
        "y_infer = model(img)\n",
        "print(f'실제 이미지의 숫자 {label}')\n",
        "print(f'예측 이미지의 숫자 {torch.argmax(y_infer,1)}')\n",
        "plt.imshow(img[0,:,:],cmap='gray')"
      ],
      "metadata": {
        "colab": {
          "base_uri": "https://localhost:8080/",
          "height": 485
        },
        "id": "wr2q58IpB1iN",
        "outputId": "cdca7d9f-851b-4772-8750-e67fc9b4512d"
      },
      "execution_count": 36,
      "outputs": [
        {
          "output_type": "stream",
          "name": "stdout",
          "text": [
            "실제 이미지의 숫자 4\n",
            "예측 이미지의 숫자 tensor([4])\n"
          ]
        },
        {
          "output_type": "execute_result",
          "data": {
            "text/plain": [
              "<matplotlib.image.AxesImage at 0x7e3d0b895e40>"
            ]
          },
          "metadata": {},
          "execution_count": 36
        },
        {
          "output_type": "display_data",
          "data": {
            "text/plain": [
              "<Figure size 640x480 with 1 Axes>"
            ],
            "image/png": "[encoded data removed]"
          },
          "metadata": {}
        }
      ]
    },
    {
      "cell_type": "code",
      "source": [
        "# 반복문을 활용하여 여러 데이터 확인하기\n",
        "\n",
        "num_images_to_visualize = 5\n",
        "\n",
        "for _ in range(num_images_to_visualize):\n",
        "    img, label = random.choice(mnist_test)\n",
        "    y_infer = model(img)\n",
        "    predicted_label = torch.argmax(y_infer, 1).item()\n",
        "    print(f'실제 이미지의 숫자 {label}')\n",
        "    print(f'예측 이미지의 숫자 {predicted_label}')\n",
        "    plt.imshow(img[0, :, :], cmap='gray')\n",
        "    plt.show()"
      ],
      "metadata": {
        "colab": {
          "base_uri": "https://localhost:8080/",
          "height": 1000
        },
        "id": "oPfmGmToFQZD",
        "outputId": "e9399760-a5f3-49ec-9d35-96aeec61cac3"
      },
      "execution_count": 37,
      "outputs": [
        {
          "output_type": "stream",
          "name": "stdout",
          "text": [
            "실제 이미지의 숫자 2\n",
            "예측 이미지의 숫자 2\n"
          ]
        },
        {
          "output_type": "display_data",
          "data": {
            "text/plain": [
              "<Figure size 640x480 with 1 Axes>"
            ],
            "image/png": "[encoded data removed]"
          },
          "metadata": {}
        },
        {
          "output_type": "stream",
          "name": "stdout",
          "text": [
            "실제 이미지의 숫자 2\n",
            "예측 이미지의 숫자 2\n"
          ]
        },
        {
          "output_type": "display_data",
          "data": {
            "text/plain": [
              "<Figure size 640x480 with 1 Axes>"
            ],
            "image/png": "[encoded data removed]"
          },
          "metadata": {}
        },
        {
          "output_type": "stream",
          "name": "stdout",
          "text": [
            "실제 이미지의 숫자 8\n",
            "예측 이미지의 숫자 8\n"
          ]
        },
        {
          "output_type": "display_data",
          "data": {
            "text/plain": [
              "<Figure size 640x480 with 1 Axes>"
            ],
            "image/png": "[encoded data removed]"
          },
          "metadata": {}
        },
        {
          "output_type": "stream",
          "name": "stdout",
          "text": [
            "실제 이미지의 숫자 7\n",
            "예측 이미지의 숫자 7\n"
          ]
        },
        {
          "output_type": "display_data",
          "data": {
            "text/plain": [
              "<Figure size 640x480 with 1 Axes>"
            ],
            "image/png": "[encoded data removed]"
          },
          "metadata": {}
        },
        {
          "output_type": "stream",
          "name": "stdout",
          "text": [
            "실제 이미지의 숫자 9\n",
            "예측 이미지의 숫자 9\n"
          ]
        },
        {
          "output_type": "display_data",
          "data": {
            "text/plain": [
              "<Figure size 640x480 with 1 Axes>"
            ],
            "image/png": "[encoded data removed]"
          },
          "metadata": {}
        }
      ]
    }
  ]
}