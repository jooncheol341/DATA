{
  "nbformat": 4,
  "nbformat_minor": 0,
  "metadata": {
    "colab": {
      "provenance": []
    },
    "kernelspec": {
      "name": "python3",
      "display_name": "Python 3"
    },
    "language_info": {
      "name": "python"
    }
  },
  "cells": [
    {
      "cell_type": "code",
      "execution_count": 1,
      "metadata": {
        "colab": {
          "base_uri": "https://localhost:8080/"
        },
        "id": "G5aV3EPzjuYo",
        "outputId": "0a00bc71-50e5-4ee3-d2bb-2538ab42408c"
      },
      "outputs": [
        {
          "output_type": "stream",
          "name": "stdout",
          "text": [
            "스칼라 모양 : ()\n",
            "벡터 모양 : (2,)\n",
            "행렬 모양 : (3, 2)\n"
          ]
        }
      ],
      "source": [
        "import numpy as np\n",
        "\n",
        "scalar = np.array(3)\n",
        "vector = np.array([3, -1]) # 2차원 벡터\n",
        "matrix = np.array([[-1, 3], [0,2], [7, -5]]) # 3 x 2 행렬\n",
        "print(f'스칼라 모양 : {scalar.shape}')\n",
        "print(f'벡터 모양 : {vector.shape}')\n",
        "print(f'행렬 모양 : {matrix.shape}')"
      ]
    },
    {
      "cell_type": "code",
      "source": [
        "a = np.array([3, -1])\n",
        "b = np.array([1,2])\n",
        "\n",
        "print(f'넘파이 특성 - 벡터와 스칼라의 합: {a+1}')\n",
        "print(f'벡터 스칼라곱: {2*a}')\n",
        "print(f'a, b 벡터의 합: {a+b}')\n",
        "print(f'a 벡터의 크기: {np.linalg.norm(a)}')  # 넘파이 내부의 linalg 클래스를 이용한 a 벡터의 크기를 출력하는 것이다."
      ],
      "metadata": {
        "colab": {
          "base_uri": "https://localhost:8080/"
        },
        "id": "XOl4jbzukVfR",
        "outputId": "cdf0add5-fce2-4d4d-af99-9a08932f0385"
      },
      "execution_count": 2,
      "outputs": [
        {
          "output_type": "stream",
          "name": "stdout",
          "text": [
            "넘파이 특성 - 벡터와 스칼라의 합: [4 0]\n",
            "벡터 스칼라곱: [ 6 -2]\n",
            "a, b 벡터의 합: [4 1]\n",
            "a 벡터의 크기: 3.1622776601683795\n"
          ]
        }
      ]
    },
    {
      "cell_type": "code",
      "source": [
        "# 모든 결과는 3*1+(-1)*2 = 1이 나와야 한다.\n",
        "print(f'내적 첫 번째 방법: {np.dot(a,b)}')\n",
        "print(f'내적 두 번째 방법: {a@b}')\n",
        "print(f'내적 세 번째 방법: {np.sum([i*j for i,j in zip(a,b)])}')"
      ],
      "metadata": {
        "colab": {
          "base_uri": "https://localhost:8080/"
        },
        "id": "Kbd3Je6-kVhc",
        "outputId": "421734cc-871d-4e59-eff7-899c4e47185a"
      },
      "execution_count": 3,
      "outputs": [
        {
          "output_type": "stream",
          "name": "stdout",
          "text": [
            "내적 첫 번째 방법: 1\n",
            "내적 두 번째 방법: 1\n",
            "내적 세 번째 방법: 1\n"
          ]
        }
      ]
    },
    {
      "cell_type": "code",
      "source": [
        "# 행렬 정의\n",
        "a = np.array([[-1,3],[0,3],[7,-5]]) # 3x2 행렬 정의\n",
        "b = np.array([[4,1,2],[3,5,-1]]) # 2x3 행렬 정의\n",
        "print(f'a 행렬의 차원: {a.shape}')\n",
        "print(f'b 행렬의 차원: {b.shape}')"
      ],
      "metadata": {
        "colab": {
          "base_uri": "https://localhost:8080/"
        },
        "id": "bdZW9KtQkVj6",
        "outputId": "795c80c4-a7fc-4175-dc06-839aeab048b4"
      },
      "execution_count": 4,
      "outputs": [
        {
          "output_type": "stream",
          "name": "stdout",
          "text": [
            "a 행렬의 차원: (3, 2)\n",
            "b 행렬의 차원: (2, 3)\n"
          ]
        }
      ]
    },
    {
      "cell_type": "code",
      "source": [
        "print(f'a 행렬 스칼라 곱(x2): ')\n",
        "print(f'{2*a}')"
      ],
      "metadata": {
        "colab": {
          "base_uri": "https://localhost:8080/"
        },
        "id": "D7cdSOOYkVmL",
        "outputId": "72e3cb23-4819-4fd9-ff05-374fb69cc9f8"
      },
      "execution_count": 5,
      "outputs": [
        {
          "output_type": "stream",
          "name": "stdout",
          "text": [
            "a 행렬 스칼라 곱(x2): \n",
            "[[ -2   6]\n",
            " [  0   6]\n",
            " [ 14 -10]]\n"
          ]
        }
      ]
    },
    {
      "cell_type": "code",
      "source": [
        "a1 = np.random.normal(size=(3,2)) # 임의의 3 x 2 행렬 정의\n",
        "print(f'a 행렬, a1 행렬의 합: ')\n",
        "print(f'{a+a1}') # 결과는 시행할 때마다 달라짐"
      ],
      "metadata": {
        "colab": {
          "base_uri": "https://localhost:8080/"
        },
        "id": "s8KzYqjQkVop",
        "outputId": "fc8a04f1-e508-45a7-9a6d-8a4dcf0ba28f"
      },
      "execution_count": 6,
      "outputs": [
        {
          "output_type": "stream",
          "name": "stdout",
          "text": [
            "a 행렬, a1 행렬의 합: \n",
            "[[-1.23393172  3.70222432]\n",
            " [ 1.97278076  2.50693067]\n",
            " [ 8.34226376 -4.2124689 ]]\n"
          ]
        }
      ]
    },
    {
      "cell_type": "code",
      "source": [
        "# a 행렬 b 행렬의 곱\n",
        "print(f'행렬 곱 첫 번째 방식: ')\n",
        "print(a @ b)\n",
        "print(f'행렬 곱 두 번째 방식: ')\n",
        "print(np.matmul(a,b))"
      ],
      "metadata": {
        "colab": {
          "base_uri": "https://localhost:8080/"
        },
        "id": "y5sf7Uc4kVrH",
        "outputId": "482cd3d1-a0ee-4cbe-a155-89b1f46bf03e"
      },
      "execution_count": 7,
      "outputs": [
        {
          "output_type": "stream",
          "name": "stdout",
          "text": [
            "행렬 곱 첫 번째 방식: \n",
            "[[  5  14  -5]\n",
            " [  9  15  -3]\n",
            " [ 13 -18  19]]\n",
            "행렬 곱 두 번째 방식: \n",
            "[[  5  14  -5]\n",
            " [  9  15  -3]\n",
            " [ 13 -18  19]]\n"
          ]
        }
      ]
    },
    {
      "cell_type": "code",
      "source": [
        "# 역행렬 실습\n",
        "a = np.array([[1,3,5],[2,1,-1],[-1,3,-5]]) # 3 X 3 행렬 정의\n",
        "a_inv = np.linalg.inv(a) # A의 역행렬 정의\n",
        "print(f'A 행렬, A 역행렬의 곱')\n",
        "print(np.matmul(a, a_inv))"
      ],
      "metadata": {
        "colab": {
          "base_uri": "https://localhost:8080/"
        },
        "id": "jhyxdyBTkVte",
        "outputId": "0203cc80-17c0-47c5-d4f8-f05708943e16"
      },
      "execution_count": 8,
      "outputs": [
        {
          "output_type": "stream",
          "name": "stdout",
          "text": [
            "A 행렬, A 역행렬의 곱\n",
            "[[ 1.00000000e+00 -2.77555756e-17 -1.24900090e-16]\n",
            " [ 0.00000000e+00  1.00000000e+00  1.38777878e-17]\n",
            " [ 1.11022302e-16  2.77555756e-17  1.00000000e+00]]\n"
          ]
        }
      ]
    }
  ]
}