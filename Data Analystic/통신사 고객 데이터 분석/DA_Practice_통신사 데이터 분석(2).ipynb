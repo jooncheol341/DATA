{
 "cells": [
  {
   "cell_type": "code",
   "execution_count": 1,
   "id": "4c55e877",
   "metadata": {},
   "outputs": [],
   "source": [
    "import pandas as pd\n",
    "\n",
    "df = pd.read_csv('test3_modify.csv')"
   ]
  },
  {
   "cell_type": "code",
   "execution_count": 2,
   "id": "f611bbab",
   "metadata": {},
   "outputs": [],
   "source": [
    "label = 'Churn_num'\n",
    "features = ['SeniorCitizen', 'TotalCharges', 'tenure_scaled',\n",
    "       'MonthlyCharges_scaled', 'Partner_num', 'Dependents_num',\n",
    "       'PhoneService_num', 'PaperlessBilling_num', 'InternetSpeed']\n",
    "\n",
    "X, y= df[features], df[label]"
   ]
  },
  {
   "cell_type": "code",
   "execution_count": 3,
   "id": "ffbbdecd",
   "metadata": {},
   "outputs": [
    {
     "data": {
      "text/plain": [
       "array([2, 0, 2, ..., 2, 2, 1])"
      ]
     },
     "execution_count": 3,
     "metadata": {},
     "output_type": "execute_result"
    }
   ],
   "source": [
    "from sklearn.cluster import KMeans\n",
    "\n",
    "kmeans = KMeans(n_clusters=4).fit(X)\n",
    "kmeans.labels_"
   ]
  },
  {
   "cell_type": "code",
   "execution_count": 4,
   "id": "bafbae9e",
   "metadata": {},
   "outputs": [],
   "source": [
    "df['cluster'] = kmeans.labels_"
   ]
  },
  {
   "cell_type": "code",
   "execution_count": 5,
   "id": "eb1d25c6",
   "metadata": {},
   "outputs": [
    {
     "data": {
      "text/html": [
       "<div>\n",
       "<style scoped>\n",
       "    .dataframe tbody tr th:only-of-type {\n",
       "        vertical-align: middle;\n",
       "    }\n",
       "\n",
       "    .dataframe tbody tr th {\n",
       "        vertical-align: top;\n",
       "    }\n",
       "\n",
       "    .dataframe thead th {\n",
       "        text-align: right;\n",
       "    }\n",
       "</style>\n",
       "<table border=\"1\" class=\"dataframe\">\n",
       "  <thead>\n",
       "    <tr style=\"text-align: right;\">\n",
       "      <th></th>\n",
       "      <th>SeniorCitizen</th>\n",
       "      <th>TotalCharges</th>\n",
       "      <th>Churn_num</th>\n",
       "      <th>tenure_scaled</th>\n",
       "      <th>MonthlyCharges_scaled</th>\n",
       "      <th>Partner_num</th>\n",
       "      <th>Dependents_num</th>\n",
       "      <th>PhoneService_num</th>\n",
       "      <th>PaperlessBilling_num</th>\n",
       "      <th>InternetSpeed</th>\n",
       "      <th>cluster</th>\n",
       "    </tr>\n",
       "  </thead>\n",
       "  <tbody>\n",
       "    <tr>\n",
       "      <th>0</th>\n",
       "      <td>0</td>\n",
       "      <td>29.85</td>\n",
       "      <td>0</td>\n",
       "      <td>0.013889</td>\n",
       "      <td>-1.160323</td>\n",
       "      <td>1</td>\n",
       "      <td>0</td>\n",
       "      <td>0</td>\n",
       "      <td>1</td>\n",
       "      <td>0.5</td>\n",
       "      <td>2</td>\n",
       "    </tr>\n",
       "    <tr>\n",
       "      <th>1</th>\n",
       "      <td>0</td>\n",
       "      <td>1889.50</td>\n",
       "      <td>0</td>\n",
       "      <td>0.472222</td>\n",
       "      <td>-0.259629</td>\n",
       "      <td>0</td>\n",
       "      <td>0</td>\n",
       "      <td>1</td>\n",
       "      <td>0</td>\n",
       "      <td>0.5</td>\n",
       "      <td>0</td>\n",
       "    </tr>\n",
       "    <tr>\n",
       "      <th>2</th>\n",
       "      <td>0</td>\n",
       "      <td>108.15</td>\n",
       "      <td>1</td>\n",
       "      <td>0.027778</td>\n",
       "      <td>-0.362660</td>\n",
       "      <td>0</td>\n",
       "      <td>0</td>\n",
       "      <td>1</td>\n",
       "      <td>1</td>\n",
       "      <td>0.5</td>\n",
       "      <td>2</td>\n",
       "    </tr>\n",
       "    <tr>\n",
       "      <th>3</th>\n",
       "      <td>0</td>\n",
       "      <td>1840.75</td>\n",
       "      <td>0</td>\n",
       "      <td>0.625000</td>\n",
       "      <td>-0.746535</td>\n",
       "      <td>0</td>\n",
       "      <td>0</td>\n",
       "      <td>0</td>\n",
       "      <td>0</td>\n",
       "      <td>0.5</td>\n",
       "      <td>0</td>\n",
       "    </tr>\n",
       "    <tr>\n",
       "      <th>4</th>\n",
       "      <td>0</td>\n",
       "      <td>151.65</td>\n",
       "      <td>1</td>\n",
       "      <td>0.027778</td>\n",
       "      <td>0.197365</td>\n",
       "      <td>0</td>\n",
       "      <td>0</td>\n",
       "      <td>1</td>\n",
       "      <td>1</td>\n",
       "      <td>1.0</td>\n",
       "      <td>2</td>\n",
       "    </tr>\n",
       "  </tbody>\n",
       "</table>\n",
       "</div>"
      ],
      "text/plain": [
       "   SeniorCitizen  TotalCharges  Churn_num  tenure_scaled  \\\n",
       "0              0         29.85          0       0.013889   \n",
       "1              0       1889.50          0       0.472222   \n",
       "2              0        108.15          1       0.027778   \n",
       "3              0       1840.75          0       0.625000   \n",
       "4              0        151.65          1       0.027778   \n",
       "\n",
       "   MonthlyCharges_scaled  Partner_num  Dependents_num  PhoneService_num  \\\n",
       "0              -1.160323            1               0                 0   \n",
       "1              -0.259629            0               0                 1   \n",
       "2              -0.362660            0               0                 1   \n",
       "3              -0.746535            0               0                 0   \n",
       "4               0.197365            0               0                 1   \n",
       "\n",
       "   PaperlessBilling_num  InternetSpeed  cluster  \n",
       "0                     1            0.5        2  \n",
       "1                     0            0.5        0  \n",
       "2                     1            0.5        2  \n",
       "3                     0            0.5        0  \n",
       "4                     1            1.0        2  "
      ]
     },
     "execution_count": 5,
     "metadata": {},
     "output_type": "execute_result"
    }
   ],
   "source": [
    "df.head()"
   ]
  },
  {
   "cell_type": "code",
   "execution_count": 6,
   "id": "cc1a0239",
   "metadata": {},
   "outputs": [
    {
     "data": {
      "text/html": [
       "<div>\n",
       "<style scoped>\n",
       "    .dataframe tbody tr th:only-of-type {\n",
       "        vertical-align: middle;\n",
       "    }\n",
       "\n",
       "    .dataframe tbody tr th {\n",
       "        vertical-align: top;\n",
       "    }\n",
       "\n",
       "    .dataframe thead th {\n",
       "        text-align: right;\n",
       "    }\n",
       "</style>\n",
       "<table border=\"1\" class=\"dataframe\">\n",
       "  <thead>\n",
       "    <tr style=\"text-align: right;\">\n",
       "      <th></th>\n",
       "      <th>Churn_num</th>\n",
       "    </tr>\n",
       "    <tr>\n",
       "      <th>cluster</th>\n",
       "      <th></th>\n",
       "    </tr>\n",
       "  </thead>\n",
       "  <tbody>\n",
       "    <tr>\n",
       "      <th>0</th>\n",
       "      <td>0.225750</td>\n",
       "    </tr>\n",
       "    <tr>\n",
       "      <th>1</th>\n",
       "      <td>0.131365</td>\n",
       "    </tr>\n",
       "    <tr>\n",
       "      <th>2</th>\n",
       "      <td>0.361783</td>\n",
       "    </tr>\n",
       "    <tr>\n",
       "      <th>3</th>\n",
       "      <td>0.180328</td>\n",
       "    </tr>\n",
       "  </tbody>\n",
       "</table>\n",
       "</div>"
      ],
      "text/plain": [
       "         Churn_num\n",
       "cluster           \n",
       "0         0.225750\n",
       "1         0.131365\n",
       "2         0.361783\n",
       "3         0.180328"
      ]
     },
     "execution_count": 6,
     "metadata": {},
     "output_type": "execute_result"
    }
   ],
   "source": [
    "import numpy as np\n",
    "\n",
    "df.groupby('cluster').agg({label : np.mean})"
   ]
  },
  {
   "cell_type": "code",
   "execution_count": 7,
   "id": "e1858725",
   "metadata": {},
   "outputs": [
    {
     "data": {
      "text/plain": [
       "0.2653698707936959"
      ]
     },
     "execution_count": 7,
     "metadata": {},
     "output_type": "execute_result"
    }
   ],
   "source": [
    "np.mean(df[label])\n",
    "\n",
    "# 전체 고객 중 26% 이탈을 하는데\n",
    "# 어떤 그룹은 평균 대비 2배 정도 이탈률이 높거나 낮다. "
   ]
  },
  {
   "cell_type": "code",
   "execution_count": 8,
   "id": "f404e524",
   "metadata": {},
   "outputs": [],
   "source": [
    "# 이탈률이 가장 높은 그룹과 낮은 그룹의 특징을 확인\n",
    "\n",
    "import seaborn as sns\n",
    "\n",
    "feature = [ 'SeniorCitizen', 'tenure_scaled',\n",
    "       'MonthlyCharges_scaled', 'Partner_num', 'Dependents_num',\n",
    "       'PhoneService_num', 'PaperlessBilling_num', 'InternetSpeed']\n",
    "\n",
    "df1 = df.loc[df['cluster'] == 3][feature].describe().T['mean'].reset_index()\n",
    "# 현상태로 하면 totalcharges의 값이 너무 커서 그래프가 이상하게 나온다. 그래서 total charges를 뺴주거나 scaling을 진행 후에 \n",
    "# 시각화를 해줘야한다. "
   ]
  },
  {
   "cell_type": "code",
   "execution_count": 9,
   "id": "bfff7756",
   "metadata": {},
   "outputs": [
    {
     "data": {
      "text/plain": [
       "<AxesSubplot:xlabel='mean', ylabel='index'>"
      ]
     },
     "execution_count": 9,
     "metadata": {},
     "output_type": "execute_result"
    },
    {
     "data": {
      "image/png": "[encoded data removed]",
      "text/plain": [
       "<Figure size 640x480 with 1 Axes>"
      ]
     },
     "metadata": {},
     "output_type": "display_data"
    }
   ],
   "source": [
    "sns.barplot(data = df1.sort_values(by = 'mean'), x= 'mean', y ='index')"
   ]
  },
  {
   "cell_type": "code",
   "execution_count": 10,
   "id": "37b6c903",
   "metadata": {},
   "outputs": [],
   "source": [
    "df2 = df.loc[df['cluster'] == 0][feature].describe().T['mean'].reset_index()"
   ]
  },
  {
   "cell_type": "code",
   "execution_count": 11,
   "id": "01b9f78a",
   "metadata": {},
   "outputs": [
    {
     "data": {
      "text/plain": [
       "<AxesSubplot:xlabel='mean', ylabel='index'>"
      ]
     },
     "execution_count": 11,
     "metadata": {},
     "output_type": "execute_result"
    },
    {
     "data": {
      "image/png": "[encoded data removed]",
      "text/plain": [
       "<Figure size 640x480 with 1 Axes>"
      ]
     },
     "metadata": {},
     "output_type": "display_data"
    }
   ],
   "source": [
    "sns.barplot(data = df2.sort_values(by = 'mean'), x= 'mean', y ='index')"
   ]
  },
  {
   "cell_type": "markdown",
   "id": "0fb7224e",
   "metadata": {},
   "source": [
    "### 그룹화 할 때, 군집의 개수를 지정하는 방법\n",
    "- 군집의 개수를 미리 알고있는 경우 - 그대로 사용\n",
    "- 실루엣 지표 - 범위가 -1에서 1사이의 값을 가진다. 1에 가까울수록 좋다.\n",
    "- scree plot, elbow method"
   ]
  },
  {
   "cell_type": "code",
   "execution_count": 12,
   "id": "2e0308a3",
   "metadata": {},
   "outputs": [],
   "source": [
    "from sklearn.metrics import silhouette_score as sil"
   ]
  },
  {
   "cell_type": "code",
   "execution_count": 13,
   "id": "7a5f0e1d",
   "metadata": {},
   "outputs": [
    {
     "data": {
      "text/plain": [
       "KMeans(n_clusters=3)"
      ]
     },
     "execution_count": 13,
     "metadata": {},
     "output_type": "execute_result"
    }
   ],
   "source": [
    "model = KMeans(n_clusters = 3)\n",
    "model.fit(df[feature])"
   ]
  },
  {
   "cell_type": "code",
   "execution_count": 14,
   "id": "43c91011",
   "metadata": {},
   "outputs": [
    {
     "data": {
      "text/plain": [
       "0.26924896878322424"
      ]
     },
     "execution_count": 14,
     "metadata": {},
     "output_type": "execute_result"
    }
   ],
   "source": [
    "sil_score = sil(df[feature], model.labels_)\n",
    "sil_score"
   ]
  },
  {
   "cell_type": "code",
   "execution_count": 15,
   "id": "ed5f7525",
   "metadata": {},
   "outputs": [
    {
     "data": {
      "text/plain": [
       "0.24036014595630825"
      ]
     },
     "execution_count": 15,
     "metadata": {},
     "output_type": "execute_result"
    }
   ],
   "source": [
    "model = KMeans(n_clusters = 4)\n",
    "model.fit(df[feature])\n",
    "\n",
    "sil_score = sil(df[feature], model.labels_)\n",
    "# model.inertia_ -> elbow score\n",
    "sil_score"
   ]
  },
  {
   "cell_type": "code",
   "execution_count": 17,
   "id": "7256390e",
   "metadata": {},
   "outputs": [
    {
     "data": {
      "text/plain": [
       "0.2468145022745789"
      ]
     },
     "execution_count": 17,
     "metadata": {},
     "output_type": "execute_result"
    }
   ],
   "source": [
    "model = KMeans(n_clusters = 5)\n",
    "model.fit(df[feature])\n",
    "\n",
    "sil_score = sil(df[feature], model.labels_)\n",
    "sil_score"
   ]
  },
  {
   "cell_type": "code",
   "execution_count": 20,
   "id": "e57eca90",
   "metadata": {},
   "outputs": [],
   "source": [
    "score_list = []\n",
    "\n",
    "for i in range(10):\n",
    "    i += 2\n",
    "    model = KMeans(n_clusters = i)\n",
    "    model.fit(df[feature])\n",
    "\n",
    "    sil_score = sil(df[feature], model.labels_)\n",
    "    elbow_score = model.inertia_\n",
    "    score_list.append({'num_cluster' : i, 'sil' : sil_score, 'elbow' : elbow_score})\n",
    "score_df = pd.DataFrame(score_list)"
   ]
  },
  {
   "cell_type": "code",
   "execution_count": 21,
   "id": "df6322e5",
   "metadata": {},
   "outputs": [
    {
     "data": {
      "text/html": [
       "<div>\n",
       "<style scoped>\n",
       "    .dataframe tbody tr th:only-of-type {\n",
       "        vertical-align: middle;\n",
       "    }\n",
       "\n",
       "    .dataframe tbody tr th {\n",
       "        vertical-align: top;\n",
       "    }\n",
       "\n",
       "    .dataframe thead th {\n",
       "        text-align: right;\n",
       "    }\n",
       "</style>\n",
       "<table border=\"1\" class=\"dataframe\">\n",
       "  <thead>\n",
       "    <tr style=\"text-align: right;\">\n",
       "      <th></th>\n",
       "      <th>num_cluster</th>\n",
       "      <th>sil</th>\n",
       "      <th>elbow</th>\n",
       "    </tr>\n",
       "  </thead>\n",
       "  <tbody>\n",
       "    <tr>\n",
       "      <th>0</th>\n",
       "      <td>2</td>\n",
       "      <td>0.357751</td>\n",
       "      <td>8937.277740</td>\n",
       "    </tr>\n",
       "    <tr>\n",
       "      <th>1</th>\n",
       "      <td>3</td>\n",
       "      <td>0.269249</td>\n",
       "      <td>7657.454442</td>\n",
       "    </tr>\n",
       "    <tr>\n",
       "      <th>2</th>\n",
       "      <td>4</td>\n",
       "      <td>0.240286</td>\n",
       "      <td>6686.918914</td>\n",
       "    </tr>\n",
       "    <tr>\n",
       "      <th>3</th>\n",
       "      <td>5</td>\n",
       "      <td>0.244665</td>\n",
       "      <td>6134.730542</td>\n",
       "    </tr>\n",
       "    <tr>\n",
       "      <th>4</th>\n",
       "      <td>6</td>\n",
       "      <td>0.254413</td>\n",
       "      <td>5522.984444</td>\n",
       "    </tr>\n",
       "    <tr>\n",
       "      <th>5</th>\n",
       "      <td>7</td>\n",
       "      <td>0.263957</td>\n",
       "      <td>5108.441091</td>\n",
       "    </tr>\n",
       "    <tr>\n",
       "      <th>6</th>\n",
       "      <td>8</td>\n",
       "      <td>0.267232</td>\n",
       "      <td>4698.752509</td>\n",
       "    </tr>\n",
       "    <tr>\n",
       "      <th>7</th>\n",
       "      <td>9</td>\n",
       "      <td>0.273713</td>\n",
       "      <td>4438.187162</td>\n",
       "    </tr>\n",
       "    <tr>\n",
       "      <th>8</th>\n",
       "      <td>10</td>\n",
       "      <td>0.286089</td>\n",
       "      <td>4098.069182</td>\n",
       "    </tr>\n",
       "    <tr>\n",
       "      <th>9</th>\n",
       "      <td>11</td>\n",
       "      <td>0.288156</td>\n",
       "      <td>3910.390582</td>\n",
       "    </tr>\n",
       "  </tbody>\n",
       "</table>\n",
       "</div>"
      ],
      "text/plain": [
       "   num_cluster       sil        elbow\n",
       "0            2  0.357751  8937.277740\n",
       "1            3  0.269249  7657.454442\n",
       "2            4  0.240286  6686.918914\n",
       "3            5  0.244665  6134.730542\n",
       "4            6  0.254413  5522.984444\n",
       "5            7  0.263957  5108.441091\n",
       "6            8  0.267232  4698.752509\n",
       "7            9  0.273713  4438.187162\n",
       "8           10  0.286089  4098.069182\n",
       "9           11  0.288156  3910.390582"
      ]
     },
     "execution_count": 21,
     "metadata": {},
     "output_type": "execute_result"
    }
   ],
   "source": [
    "score_df"
   ]
  },
  {
   "cell_type": "code",
   "execution_count": 22,
   "id": "60540b44",
   "metadata": {},
   "outputs": [
    {
     "data": {
      "text/plain": [
       "<AxesSubplot:xlabel='num_cluster', ylabel='elbow'>"
      ]
     },
     "execution_count": 22,
     "metadata": {},
     "output_type": "execute_result"
    },
    {
     "data": {
      "image/png": "[encoded data removed]",
      "text/plain": [
       "<Figure size 640x480 with 1 Axes>"
      ]
     },
     "metadata": {},
     "output_type": "display_data"
    }
   ],
   "source": [
    "sns.lineplot(data = score_df, x= 'num_cluster', y = 'elbow')"
   ]
  },
  {
   "cell_type": "markdown",
   "id": "503b66ba",
   "metadata": {},
   "source": [
    "### 차원 축소 ( Dimensionality Reduction ) \n",
    "- 주성분분석 ( PCA ) "
   ]
  },
  {
   "cell_type": "code",
   "execution_count": 23,
   "id": "6f425eeb",
   "metadata": {},
   "outputs": [],
   "source": [
    "from sklearn.decomposition import PCA"
   ]
  },
  {
   "cell_type": "code",
   "execution_count": 24,
   "id": "33bc2b4b",
   "metadata": {},
   "outputs": [
    {
     "data": {
      "text/plain": [
       "8"
      ]
     },
     "execution_count": 24,
     "metadata": {},
     "output_type": "execute_result"
    }
   ],
   "source": [
    "len(feature)"
   ]
  },
  {
   "cell_type": "code",
   "execution_count": 26,
   "id": "81fa5ada",
   "metadata": {},
   "outputs": [
    {
     "data": {
      "text/html": [
       "<div>\n",
       "<style scoped>\n",
       "    .dataframe tbody tr th:only-of-type {\n",
       "        vertical-align: middle;\n",
       "    }\n",
       "\n",
       "    .dataframe tbody tr th {\n",
       "        vertical-align: top;\n",
       "    }\n",
       "\n",
       "    .dataframe thead th {\n",
       "        text-align: right;\n",
       "    }\n",
       "</style>\n",
       "<table border=\"1\" class=\"dataframe\">\n",
       "  <thead>\n",
       "    <tr style=\"text-align: right;\">\n",
       "      <th></th>\n",
       "      <th>PC1</th>\n",
       "      <th>PC2</th>\n",
       "    </tr>\n",
       "  </thead>\n",
       "  <tbody>\n",
       "    <tr>\n",
       "      <th>0</th>\n",
       "      <td>-1.077752</td>\n",
       "      <td>-0.018679</td>\n",
       "    </tr>\n",
       "    <tr>\n",
       "      <th>1</th>\n",
       "      <td>-0.399133</td>\n",
       "      <td>-0.428201</td>\n",
       "    </tr>\n",
       "    <tr>\n",
       "      <th>2</th>\n",
       "      <td>-0.330653</td>\n",
       "      <td>-0.695921</td>\n",
       "    </tr>\n",
       "    <tr>\n",
       "      <th>3</th>\n",
       "      <td>-0.895657</td>\n",
       "      <td>-0.425295</td>\n",
       "    </tr>\n",
       "    <tr>\n",
       "      <th>4</th>\n",
       "      <td>0.344060</td>\n",
       "      <td>-0.706090</td>\n",
       "    </tr>\n",
       "    <tr>\n",
       "      <th>...</th>\n",
       "      <td>...</td>\n",
       "      <td>...</td>\n",
       "    </tr>\n",
       "    <tr>\n",
       "      <th>7038</th>\n",
       "      <td>0.613580</td>\n",
       "      <td>0.761369</td>\n",
       "    </tr>\n",
       "    <tr>\n",
       "      <th>7039</th>\n",
       "      <td>1.385085</td>\n",
       "      <td>0.932505</td>\n",
       "    </tr>\n",
       "    <tr>\n",
       "      <th>7040</th>\n",
       "      <td>-1.135765</td>\n",
       "      <td>0.611955</td>\n",
       "    </tr>\n",
       "    <tr>\n",
       "      <th>7041</th>\n",
       "      <td>0.592569</td>\n",
       "      <td>-0.054337</td>\n",
       "    </tr>\n",
       "    <tr>\n",
       "      <th>7042</th>\n",
       "      <td>1.468855</td>\n",
       "      <td>-0.413367</td>\n",
       "    </tr>\n",
       "  </tbody>\n",
       "</table>\n",
       "<p>7043 rows × 2 columns</p>\n",
       "</div>"
      ],
      "text/plain": [
       "           PC1       PC2\n",
       "0    -1.077752 -0.018679\n",
       "1    -0.399133 -0.428201\n",
       "2    -0.330653 -0.695921\n",
       "3    -0.895657 -0.425295\n",
       "4     0.344060 -0.706090\n",
       "...        ...       ...\n",
       "7038  0.613580  0.761369\n",
       "7039  1.385085  0.932505\n",
       "7040 -1.135765  0.611955\n",
       "7041  0.592569 -0.054337\n",
       "7042  1.468855 -0.413367\n",
       "\n",
       "[7043 rows x 2 columns]"
      ]
     },
     "execution_count": 26,
     "metadata": {},
     "output_type": "execute_result"
    }
   ],
   "source": [
    "model = PCA(n_components= 2)\n",
    "pd.DataFrame(model.fit_transform(df[feature]), columns = ['PC1', 'PC2'])"
   ]
  },
  {
   "cell_type": "code",
   "execution_count": 29,
   "id": "85e4eacf",
   "metadata": {},
   "outputs": [
    {
     "data": {
      "text/html": [
       "<div>\n",
       "<style scoped>\n",
       "    .dataframe tbody tr th:only-of-type {\n",
       "        vertical-align: middle;\n",
       "    }\n",
       "\n",
       "    .dataframe tbody tr th {\n",
       "        vertical-align: top;\n",
       "    }\n",
       "\n",
       "    .dataframe thead th {\n",
       "        text-align: right;\n",
       "    }\n",
       "</style>\n",
       "<table border=\"1\" class=\"dataframe\">\n",
       "  <thead>\n",
       "    <tr style=\"text-align: right;\">\n",
       "      <th></th>\n",
       "      <th>SeniorCitizen</th>\n",
       "      <th>tenure_scaled</th>\n",
       "      <th>MonthlyCharges_scaled</th>\n",
       "      <th>Partner_num</th>\n",
       "      <th>Dependents_num</th>\n",
       "      <th>PhoneService_num</th>\n",
       "      <th>PaperlessBilling_num</th>\n",
       "      <th>InternetSpeed</th>\n",
       "    </tr>\n",
       "  </thead>\n",
       "  <tbody>\n",
       "    <tr>\n",
       "      <th>0</th>\n",
       "      <td>0.089376</td>\n",
       "      <td>0.074786</td>\n",
       "      <td>0.911090</td>\n",
       "      <td>0.045016</td>\n",
       "      <td>-0.06083</td>\n",
       "      <td>0.064334</td>\n",
       "      <td>0.195589</td>\n",
       "      <td>0.328958</td>\n",
       "    </tr>\n",
       "    <tr>\n",
       "      <th>1</th>\n",
       "      <td>-0.094996</td>\n",
       "      <td>0.268353</td>\n",
       "      <td>0.046648</td>\n",
       "      <td>0.733558</td>\n",
       "      <td>0.59375</td>\n",
       "      <td>0.015379</td>\n",
       "      <td>-0.143646</td>\n",
       "      <td>-0.072585</td>\n",
       "    </tr>\n",
       "  </tbody>\n",
       "</table>\n",
       "</div>"
      ],
      "text/plain": [
       "   SeniorCitizen  tenure_scaled  MonthlyCharges_scaled  Partner_num  \\\n",
       "0       0.089376       0.074786               0.911090     0.045016   \n",
       "1      -0.094996       0.268353               0.046648     0.733558   \n",
       "\n",
       "   Dependents_num  PhoneService_num  PaperlessBilling_num  InternetSpeed  \n",
       "0        -0.06083          0.064334              0.195589       0.328958  \n",
       "1         0.59375          0.015379             -0.143646      -0.072585  "
      ]
     },
     "execution_count": 29,
     "metadata": {},
     "output_type": "execute_result"
    }
   ],
   "source": [
    "pd.DataFrame(model.components_, columns = feature)\n",
    "\n",
    "# PC1 = 0.089376 * SeniorCitizen + 0.074786 * tenure_scaled + .... "
   ]
  },
  {
   "cell_type": "markdown",
   "id": "5791c29f",
   "metadata": {},
   "source": [
    "### PCA 수학적 설명\n",
    "- column 끼리 공분산을 구해서 공분산 행렬을 구함 ex)df[].cov()\n",
    "- 고유값, 고유벡터를 정방행렬에서 뽑아낼 수 있음\n",
    "- 고유값의 크기 순으로 정렬\n",
    "- 크기가 가장 큰 고유값부터 정렬하면 순서를 갖음\n",
    "- 고유값과 고유벡터는 한 쌍으로 되어있다.\n",
    "- 고유벡터 크기가 큰 것부터 작은 것 순서대로 PC1, PC2... 으로 이름을 붙임 "
   ]
  },
  {
   "cell_type": "code",
   "execution_count": null,
   "id": "1448c6c9",
   "metadata": {},
   "outputs": [],
   "source": [
    "import matplotlib.pyplt"
   ]
  }
 ],
 "metadata": {
  "kernelspec": {
   "display_name": "Python 3 (ipykernel)",
   "language": "python",
   "name": "python3"
  },
  "language_info": {
   "codemirror_mode": {
    "name": "ipython",
    "version": 3
   },
   "file_extension": ".py",
   "mimetype": "text/x-python",
   "name": "python",
   "nbconvert_exporter": "python",
   "pygments_lexer": "ipython3",
   "version": "3.9.13"
  }
 },
 "nbformat": 4,
 "nbformat_minor": 5
}
